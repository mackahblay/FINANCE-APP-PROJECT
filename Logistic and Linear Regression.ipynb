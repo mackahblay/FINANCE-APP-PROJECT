{
 "cells": [
  {
   "cell_type": "markdown",
   "id": "c768260d-8843-4cec-ad98-e0cd2be7c981",
   "metadata": {},
   "source": [
    "##### load modules"
   ]
  },
  {
   "cell_type": "code",
   "execution_count": 2,
   "id": "24ace6d2-608f-4ad3-8764-3769d64d929e",
   "metadata": {},
   "outputs": [],
   "source": [
    "import pandas as pd\n",
    "import numpy as np\n",
    "import matplotlib.pyplot as plt\n",
    "import seaborn as sns"
   ]
  },
  {
   "cell_type": "markdown",
   "id": "a6f3a496-d360-451d-b763-f1f9ff7c2ea0",
   "metadata": {},
   "source": [
    "#####"
   ]
  },
  {
   "cell_type": "markdown",
   "id": "51b0cfe4-c769-47f2-823a-1d8124f4f7ca",
   "metadata": {},
   "source": [
    "##### load dataset"
   ]
  },
  {
   "cell_type": "code",
   "execution_count": 23,
   "id": "66b3588d-cc94-4954-b3c3-c73459dd6047",
   "metadata": {},
   "outputs": [
    {
     "data": {
      "text/html": [
       "<div>\n",
       "<style scoped>\n",
       "    .dataframe tbody tr th:only-of-type {\n",
       "        vertical-align: middle;\n",
       "    }\n",
       "\n",
       "    .dataframe tbody tr th {\n",
       "        vertical-align: top;\n",
       "    }\n",
       "\n",
       "    .dataframe thead th {\n",
       "        text-align: right;\n",
       "    }\n",
       "</style>\n",
       "<table border=\"1\" class=\"dataframe\">\n",
       "  <thead>\n",
       "    <tr style=\"text-align: right;\">\n",
       "      <th></th>\n",
       "      <th>Unnamed: 0</th>\n",
       "      <th>age</th>\n",
       "      <th>gender</th>\n",
       "      <th>year_in_school</th>\n",
       "      <th>major</th>\n",
       "      <th>monthly_income</th>\n",
       "      <th>financial_aid</th>\n",
       "      <th>tuition</th>\n",
       "      <th>housing</th>\n",
       "      <th>food</th>\n",
       "      <th>transportation</th>\n",
       "      <th>books_supplies</th>\n",
       "      <th>entertainment</th>\n",
       "      <th>personal_care</th>\n",
       "      <th>technology</th>\n",
       "      <th>health_wellness</th>\n",
       "      <th>miscellaneous</th>\n",
       "      <th>preferred_payment_method</th>\n",
       "    </tr>\n",
       "  </thead>\n",
       "  <tbody>\n",
       "    <tr>\n",
       "      <th>0</th>\n",
       "      <td>0</td>\n",
       "      <td>19</td>\n",
       "      <td>Non-binary</td>\n",
       "      <td>Freshman</td>\n",
       "      <td>Psychology</td>\n",
       "      <td>958</td>\n",
       "      <td>270</td>\n",
       "      <td>5939</td>\n",
       "      <td>709</td>\n",
       "      <td>296</td>\n",
       "      <td>123</td>\n",
       "      <td>188</td>\n",
       "      <td>41</td>\n",
       "      <td>78</td>\n",
       "      <td>134</td>\n",
       "      <td>127</td>\n",
       "      <td>72</td>\n",
       "      <td>Credit/Debit Card</td>\n",
       "    </tr>\n",
       "    <tr>\n",
       "      <th>1</th>\n",
       "      <td>1</td>\n",
       "      <td>24</td>\n",
       "      <td>Female</td>\n",
       "      <td>Junior</td>\n",
       "      <td>Economics</td>\n",
       "      <td>1006</td>\n",
       "      <td>875</td>\n",
       "      <td>4908</td>\n",
       "      <td>557</td>\n",
       "      <td>365</td>\n",
       "      <td>85</td>\n",
       "      <td>252</td>\n",
       "      <td>74</td>\n",
       "      <td>92</td>\n",
       "      <td>226</td>\n",
       "      <td>129</td>\n",
       "      <td>68</td>\n",
       "      <td>Credit/Debit Card</td>\n",
       "    </tr>\n",
       "    <tr>\n",
       "      <th>2</th>\n",
       "      <td>2</td>\n",
       "      <td>24</td>\n",
       "      <td>Non-binary</td>\n",
       "      <td>Junior</td>\n",
       "      <td>Economics</td>\n",
       "      <td>734</td>\n",
       "      <td>928</td>\n",
       "      <td>3051</td>\n",
       "      <td>666</td>\n",
       "      <td>220</td>\n",
       "      <td>137</td>\n",
       "      <td>99</td>\n",
       "      <td>130</td>\n",
       "      <td>23</td>\n",
       "      <td>239</td>\n",
       "      <td>112</td>\n",
       "      <td>133</td>\n",
       "      <td>Cash</td>\n",
       "    </tr>\n",
       "    <tr>\n",
       "      <th>3</th>\n",
       "      <td>3</td>\n",
       "      <td>23</td>\n",
       "      <td>Female</td>\n",
       "      <td>Senior</td>\n",
       "      <td>Computer Science</td>\n",
       "      <td>617</td>\n",
       "      <td>265</td>\n",
       "      <td>4935</td>\n",
       "      <td>652</td>\n",
       "      <td>289</td>\n",
       "      <td>114</td>\n",
       "      <td>223</td>\n",
       "      <td>99</td>\n",
       "      <td>30</td>\n",
       "      <td>163</td>\n",
       "      <td>105</td>\n",
       "      <td>55</td>\n",
       "      <td>Mobile Payment App</td>\n",
       "    </tr>\n",
       "    <tr>\n",
       "      <th>4</th>\n",
       "      <td>4</td>\n",
       "      <td>20</td>\n",
       "      <td>Female</td>\n",
       "      <td>Senior</td>\n",
       "      <td>Computer Science</td>\n",
       "      <td>810</td>\n",
       "      <td>522</td>\n",
       "      <td>3887</td>\n",
       "      <td>825</td>\n",
       "      <td>372</td>\n",
       "      <td>168</td>\n",
       "      <td>194</td>\n",
       "      <td>48</td>\n",
       "      <td>71</td>\n",
       "      <td>88</td>\n",
       "      <td>71</td>\n",
       "      <td>104</td>\n",
       "      <td>Credit/Debit Card</td>\n",
       "    </tr>\n",
       "  </tbody>\n",
       "</table>\n",
       "</div>"
      ],
      "text/plain": [
       "   Unnamed: 0  age      gender year_in_school             major  \\\n",
       "0           0   19  Non-binary       Freshman        Psychology   \n",
       "1           1   24      Female         Junior         Economics   \n",
       "2           2   24  Non-binary         Junior         Economics   \n",
       "3           3   23      Female         Senior  Computer Science   \n",
       "4           4   20      Female         Senior  Computer Science   \n",
       "\n",
       "   monthly_income  financial_aid  tuition  housing  food  transportation  \\\n",
       "0             958            270     5939      709   296             123   \n",
       "1            1006            875     4908      557   365              85   \n",
       "2             734            928     3051      666   220             137   \n",
       "3             617            265     4935      652   289             114   \n",
       "4             810            522     3887      825   372             168   \n",
       "\n",
       "   books_supplies  entertainment  personal_care  technology  health_wellness  \\\n",
       "0             188             41             78         134              127   \n",
       "1             252             74             92         226              129   \n",
       "2              99            130             23         239              112   \n",
       "3             223             99             30         163              105   \n",
       "4             194             48             71          88               71   \n",
       "\n",
       "   miscellaneous preferred_payment_method  \n",
       "0             72        Credit/Debit Card  \n",
       "1             68        Credit/Debit Card  \n",
       "2            133                     Cash  \n",
       "3             55       Mobile Payment App  \n",
       "4            104        Credit/Debit Card  "
      ]
     },
     "execution_count": 23,
     "metadata": {},
     "output_type": "execute_result"
    }
   ],
   "source": [
    "data = pd.read_csv(r\"/Users/melki/Desktop/student_spending (1).csv\")\n",
    "data.head(5)"
   ]
  },
  {
   "cell_type": "markdown",
   "id": "c7fac547-daef-4609-8d5c-3244b63b6848",
   "metadata": {},
   "source": [
    "#####"
   ]
  },
  {
   "cell_type": "markdown",
   "id": "6d515116-040d-4c84-ab52-95a06848e6cf",
   "metadata": {},
   "source": [
    "##### find number of columns"
   ]
  },
  {
   "cell_type": "code",
   "execution_count": 24,
   "id": "a8c67b49-aba2-4426-9ea7-e3bc72ed0219",
   "metadata": {},
   "outputs": [
    {
     "data": {
      "text/plain": [
       "Index(['Unnamed: 0', 'age', 'gender', 'year_in_school', 'major',\n",
       "       'monthly_income', 'financial_aid', 'tuition', 'housing', 'food',\n",
       "       'transportation', 'books_supplies', 'entertainment', 'personal_care',\n",
       "       'technology', 'health_wellness', 'miscellaneous',\n",
       "       'preferred_payment_method'],\n",
       "      dtype='object')"
      ]
     },
     "execution_count": 24,
     "metadata": {},
     "output_type": "execute_result"
    }
   ],
   "source": [
    "data.columns"
   ]
  },
  {
   "cell_type": "markdown",
   "id": "49faccd6-0fcc-4c2e-af60-cfb2d084b774",
   "metadata": {},
   "source": [
    "#####"
   ]
  },
  {
   "cell_type": "markdown",
   "id": "9fb9bb3d-fd34-4b02-b44e-332045cebc16",
   "metadata": {},
   "source": [
    "##### finding null columns  "
   ]
  },
  {
   "cell_type": "code",
   "execution_count": 25,
   "id": "a5ec34fc-8bd4-4be9-9bf9-1aa311b6490d",
   "metadata": {},
   "outputs": [
    {
     "data": {
      "text/plain": [
       "Unnamed: 0                  0\n",
       "age                         0\n",
       "gender                      0\n",
       "year_in_school              0\n",
       "major                       0\n",
       "monthly_income              0\n",
       "financial_aid               0\n",
       "tuition                     0\n",
       "housing                     0\n",
       "food                        0\n",
       "transportation              0\n",
       "books_supplies              0\n",
       "entertainment               0\n",
       "personal_care               0\n",
       "technology                  0\n",
       "health_wellness             0\n",
       "miscellaneous               0\n",
       "preferred_payment_method    0\n",
       "dtype: int64"
      ]
     },
     "execution_count": 25,
     "metadata": {},
     "output_type": "execute_result"
    }
   ],
   "source": [
    "data.isna().sum()"
   ]
  },
  {
   "cell_type": "markdown",
   "id": "40e68a6b-9344-4f03-a572-5551e23ce88b",
   "metadata": {},
   "source": [
    "#####"
   ]
  },
  {
   "cell_type": "markdown",
   "id": "874f68a1-0b55-4ec8-835f-1d76aadbd078",
   "metadata": {},
   "source": [
    "##### creating the y (dependent variable) for linear regression"
   ]
  },
  {
   "cell_type": "code",
   "execution_count": 26,
   "id": "e8ead86f-fa8d-4f0d-ac3e-cfcb9b1eb705",
   "metadata": {},
   "outputs": [],
   "source": [
    "data['total_monthly_spending'] = data['housing'] + data['food'] + data['transportation'] + data['books_supplies'] + data['entertainment'] + data['personal_care'] + data['technology'] + data['health_wellness'] + data['miscellaneous']                          \n"
   ]
  },
  {
   "cell_type": "markdown",
   "id": "1fab1fd7-cdd4-4f6c-97a7-717e872ac252",
   "metadata": {},
   "source": [
    "#####"
   ]
  },
  {
   "cell_type": "markdown",
   "id": "6b123392-5c2f-41cb-82bd-3fd7472e2753",
   "metadata": {},
   "source": [
    "##### show header with new column"
   ]
  },
  {
   "cell_type": "code",
   "execution_count": 27,
   "id": "ba1f8ac9-7a12-41ea-92a6-0be820e0d1ab",
   "metadata": {},
   "outputs": [
    {
     "data": {
      "text/html": [
       "<div>\n",
       "<style scoped>\n",
       "    .dataframe tbody tr th:only-of-type {\n",
       "        vertical-align: middle;\n",
       "    }\n",
       "\n",
       "    .dataframe tbody tr th {\n",
       "        vertical-align: top;\n",
       "    }\n",
       "\n",
       "    .dataframe thead th {\n",
       "        text-align: right;\n",
       "    }\n",
       "</style>\n",
       "<table border=\"1\" class=\"dataframe\">\n",
       "  <thead>\n",
       "    <tr style=\"text-align: right;\">\n",
       "      <th></th>\n",
       "      <th>Unnamed: 0</th>\n",
       "      <th>age</th>\n",
       "      <th>gender</th>\n",
       "      <th>year_in_school</th>\n",
       "      <th>major</th>\n",
       "      <th>monthly_income</th>\n",
       "      <th>financial_aid</th>\n",
       "      <th>tuition</th>\n",
       "      <th>housing</th>\n",
       "      <th>food</th>\n",
       "      <th>transportation</th>\n",
       "      <th>books_supplies</th>\n",
       "      <th>entertainment</th>\n",
       "      <th>personal_care</th>\n",
       "      <th>technology</th>\n",
       "      <th>health_wellness</th>\n",
       "      <th>miscellaneous</th>\n",
       "      <th>preferred_payment_method</th>\n",
       "      <th>total_monthly_spending</th>\n",
       "    </tr>\n",
       "  </thead>\n",
       "  <tbody>\n",
       "    <tr>\n",
       "      <th>0</th>\n",
       "      <td>0</td>\n",
       "      <td>19</td>\n",
       "      <td>Non-binary</td>\n",
       "      <td>Freshman</td>\n",
       "      <td>Psychology</td>\n",
       "      <td>958</td>\n",
       "      <td>270</td>\n",
       "      <td>5939</td>\n",
       "      <td>709</td>\n",
       "      <td>296</td>\n",
       "      <td>123</td>\n",
       "      <td>188</td>\n",
       "      <td>41</td>\n",
       "      <td>78</td>\n",
       "      <td>134</td>\n",
       "      <td>127</td>\n",
       "      <td>72</td>\n",
       "      <td>Credit/Debit Card</td>\n",
       "      <td>1768</td>\n",
       "    </tr>\n",
       "    <tr>\n",
       "      <th>1</th>\n",
       "      <td>1</td>\n",
       "      <td>24</td>\n",
       "      <td>Female</td>\n",
       "      <td>Junior</td>\n",
       "      <td>Economics</td>\n",
       "      <td>1006</td>\n",
       "      <td>875</td>\n",
       "      <td>4908</td>\n",
       "      <td>557</td>\n",
       "      <td>365</td>\n",
       "      <td>85</td>\n",
       "      <td>252</td>\n",
       "      <td>74</td>\n",
       "      <td>92</td>\n",
       "      <td>226</td>\n",
       "      <td>129</td>\n",
       "      <td>68</td>\n",
       "      <td>Credit/Debit Card</td>\n",
       "      <td>1848</td>\n",
       "    </tr>\n",
       "    <tr>\n",
       "      <th>2</th>\n",
       "      <td>2</td>\n",
       "      <td>24</td>\n",
       "      <td>Non-binary</td>\n",
       "      <td>Junior</td>\n",
       "      <td>Economics</td>\n",
       "      <td>734</td>\n",
       "      <td>928</td>\n",
       "      <td>3051</td>\n",
       "      <td>666</td>\n",
       "      <td>220</td>\n",
       "      <td>137</td>\n",
       "      <td>99</td>\n",
       "      <td>130</td>\n",
       "      <td>23</td>\n",
       "      <td>239</td>\n",
       "      <td>112</td>\n",
       "      <td>133</td>\n",
       "      <td>Cash</td>\n",
       "      <td>1759</td>\n",
       "    </tr>\n",
       "    <tr>\n",
       "      <th>3</th>\n",
       "      <td>3</td>\n",
       "      <td>23</td>\n",
       "      <td>Female</td>\n",
       "      <td>Senior</td>\n",
       "      <td>Computer Science</td>\n",
       "      <td>617</td>\n",
       "      <td>265</td>\n",
       "      <td>4935</td>\n",
       "      <td>652</td>\n",
       "      <td>289</td>\n",
       "      <td>114</td>\n",
       "      <td>223</td>\n",
       "      <td>99</td>\n",
       "      <td>30</td>\n",
       "      <td>163</td>\n",
       "      <td>105</td>\n",
       "      <td>55</td>\n",
       "      <td>Mobile Payment App</td>\n",
       "      <td>1730</td>\n",
       "    </tr>\n",
       "    <tr>\n",
       "      <th>4</th>\n",
       "      <td>4</td>\n",
       "      <td>20</td>\n",
       "      <td>Female</td>\n",
       "      <td>Senior</td>\n",
       "      <td>Computer Science</td>\n",
       "      <td>810</td>\n",
       "      <td>522</td>\n",
       "      <td>3887</td>\n",
       "      <td>825</td>\n",
       "      <td>372</td>\n",
       "      <td>168</td>\n",
       "      <td>194</td>\n",
       "      <td>48</td>\n",
       "      <td>71</td>\n",
       "      <td>88</td>\n",
       "      <td>71</td>\n",
       "      <td>104</td>\n",
       "      <td>Credit/Debit Card</td>\n",
       "      <td>1941</td>\n",
       "    </tr>\n",
       "  </tbody>\n",
       "</table>\n",
       "</div>"
      ],
      "text/plain": [
       "   Unnamed: 0  age      gender year_in_school             major  \\\n",
       "0           0   19  Non-binary       Freshman        Psychology   \n",
       "1           1   24      Female         Junior         Economics   \n",
       "2           2   24  Non-binary         Junior         Economics   \n",
       "3           3   23      Female         Senior  Computer Science   \n",
       "4           4   20      Female         Senior  Computer Science   \n",
       "\n",
       "   monthly_income  financial_aid  tuition  housing  food  transportation  \\\n",
       "0             958            270     5939      709   296             123   \n",
       "1            1006            875     4908      557   365              85   \n",
       "2             734            928     3051      666   220             137   \n",
       "3             617            265     4935      652   289             114   \n",
       "4             810            522     3887      825   372             168   \n",
       "\n",
       "   books_supplies  entertainment  personal_care  technology  health_wellness  \\\n",
       "0             188             41             78         134              127   \n",
       "1             252             74             92         226              129   \n",
       "2              99            130             23         239              112   \n",
       "3             223             99             30         163              105   \n",
       "4             194             48             71          88               71   \n",
       "\n",
       "   miscellaneous preferred_payment_method  total_monthly_spending  \n",
       "0             72        Credit/Debit Card                    1768  \n",
       "1             68        Credit/Debit Card                    1848  \n",
       "2            133                     Cash                    1759  \n",
       "3             55       Mobile Payment App                    1730  \n",
       "4            104        Credit/Debit Card                    1941  "
      ]
     },
     "execution_count": 27,
     "metadata": {},
     "output_type": "execute_result"
    }
   ],
   "source": [
    "data.head(5)"
   ]
  },
  {
   "cell_type": "markdown",
   "id": "7a1b5ec3-8cc8-4b1e-a705-3f0d2c3ef5b1",
   "metadata": {},
   "source": [
    "#####"
   ]
  },
  {
   "cell_type": "markdown",
   "id": "4363f72d-2f70-4a71-b30f-1b685f9fa3b8",
   "metadata": {},
   "source": [
    "##### create a line plot to compare some of the X values with the y"
   ]
  },
  {
   "cell_type": "markdown",
   "id": "4c3c7ed9-cb73-40a5-8bba-5bb7a78ac58b",
   "metadata": {},
   "source": [
    "###### financial aid"
   ]
  },
  {
   "cell_type": "code",
   "execution_count": 28,
   "id": "60149ee5-1c7b-499b-bfb2-a05c94aab5f5",
   "metadata": {},
   "outputs": [
    {
     "data": {
      "image/png": "[encoded data removed]",
      "text/plain": [
       "<Figure size 300x300 with 1 Axes>"
      ]
     },
     "metadata": {},
     "output_type": "display_data"
    }
   ],
   "source": [
    "sns.lmplot(x = 'financial_aid', y = 'total_monthly_spending', data = data, scatter_kws = {'alpha':0.5}, height = 3)\n",
    "plt.xlabel('Financial Aid')\n",
    "plt.ylabel('Total Monthly Spending')\n",
    "plt.show()"
   ]
  },
  {
   "cell_type": "markdown",
   "id": "3ae41e6c-0f03-4158-944b-2f77ff7b420e",
   "metadata": {},
   "source": [
    "###### tuition"
   ]
  },
  {
   "cell_type": "code",
   "execution_count": 29,
   "id": "3f1d5f2f-6a71-4927-8ca0-ea6ef3685cc4",
   "metadata": {},
   "outputs": [
    {
     "data": {
      "image/png": "[encoded data removed]",
      "text/plain": [
       "<Figure size 300x300 with 1 Axes>"
      ]
     },
     "metadata": {},
     "output_type": "display_data"
    }
   ],
   "source": [
    "sns.lmplot(x = 'tuition', y = 'total_monthly_spending', data = data, scatter_kws = {'alpha':0.5}, height = 3)\n",
    "plt.xlabel('Financial Aid')\n",
    "plt.ylabel('Total Monthly Spending')\n",
    "plt.show()"
   ]
  },
  {
   "cell_type": "markdown",
   "id": "4f1a7322-8333-49de-a888-11d9c3898042",
   "metadata": {},
   "source": [
    "#####"
   ]
  },
  {
   "cell_type": "markdown",
   "id": "b46f104c-f135-41be-97fd-f434bffc7ce4",
   "metadata": {},
   "source": [
    "##### change gender from categorical to numerical variable"
   ]
  },
  {
   "cell_type": "code",
   "execution_count": 30,
   "id": "a539275a-e580-4862-a5bd-a19589aed709",
   "metadata": {},
   "outputs": [
    {
     "data": {
      "text/plain": [
       "array(['Non-binary', 'Female', 'Male'], dtype=object)"
      ]
     },
     "execution_count": 30,
     "metadata": {},
     "output_type": "execute_result"
    }
   ],
   "source": [
    "data.gender.unique()"
   ]
  },
  {
   "cell_type": "code",
   "execution_count": 31,
   "id": "2faa9745-a6ee-4dae-89b0-262aef790e99",
   "metadata": {},
   "outputs": [],
   "source": [
    "data['gender'] = [0 if value == 'Male' else 1 if value == 'Female' else 2 for value in data['gender']]"
   ]
  },
  {
   "cell_type": "code",
   "execution_count": 32,
   "id": "efcaa4e4-1496-463d-bdde-d5b36d03de17",
   "metadata": {},
   "outputs": [
    {
     "data": {
      "text/plain": [
       "array([2, 1, 0])"
      ]
     },
     "execution_count": 32,
     "metadata": {},
     "output_type": "execute_result"
    }
   ],
   "source": [
    "data['gender'].unique()"
   ]
  },
  {
   "cell_type": "markdown",
   "id": "2d07a6aa-3c7d-4614-bc99-b7aab2ebc50d",
   "metadata": {},
   "source": [
    "#####"
   ]
  },
  {
   "cell_type": "markdown",
   "id": "094160ba-aa66-406f-88ea-662648397566",
   "metadata": {},
   "source": [
    "##### change year_in_school from categorical to numerical variable"
   ]
  },
  {
   "cell_type": "code",
   "execution_count": 33,
   "id": "d1460de2-9298-456f-be08-b91dccc23e63",
   "metadata": {},
   "outputs": [
    {
     "data": {
      "text/plain": [
       "array(['Freshman', 'Junior', 'Senior', 'Sophomore'], dtype=object)"
      ]
     },
     "execution_count": 33,
     "metadata": {},
     "output_type": "execute_result"
    }
   ],
   "source": [
    "data['year_in_school'].unique()"
   ]
  },
  {
   "cell_type": "code",
   "execution_count": 34,
   "id": "c59be10f-8a37-440c-9ada-8606596af452",
   "metadata": {},
   "outputs": [],
   "source": [
    "data['year_in_school'] = [0 if value == 'Freshman' else 1 if value == 'Sophomore' else 2 if value == 'Junior' else 3 for value in data['year_in_school']]"
   ]
  },
  {
   "cell_type": "code",
   "execution_count": 35,
   "id": "284b3f0c-677b-47c8-a5b1-2bbdd8049432",
   "metadata": {},
   "outputs": [
    {
     "data": {
      "text/plain": [
       "array([0, 2, 3, 1])"
      ]
     },
     "execution_count": 35,
     "metadata": {},
     "output_type": "execute_result"
    }
   ],
   "source": [
    "data['year_in_school'].unique()"
   ]
  },
  {
   "cell_type": "markdown",
   "id": "42a82bde-87af-4ce6-8d3e-f73af597ffeb",
   "metadata": {},
   "source": [
    "#####"
   ]
  },
  {
   "cell_type": "markdown",
   "id": "1a89341c-d159-4229-a603-6ec46af8fb91",
   "metadata": {},
   "source": [
    "##### change major from categorical to numerical variable"
   ]
  },
  {
   "cell_type": "code",
   "execution_count": 37,
   "id": "8f8d9c66-e8c8-40ae-a4d0-559a14b32e7f",
   "metadata": {},
   "outputs": [
    {
     "data": {
      "text/plain": [
       "array(['Psychology', 'Economics', 'Computer Science', 'Engineering',\n",
       "       'Biology'], dtype=object)"
      ]
     },
     "execution_count": 37,
     "metadata": {},
     "output_type": "execute_result"
    }
   ],
   "source": [
    "data['major'].unique()"
   ]
  },
  {
   "cell_type": "code",
   "execution_count": 38,
   "id": "e1dda774-e06e-4cdb-8876-c537798efadc",
   "metadata": {},
   "outputs": [],
   "source": [
    "data['major'] = [0 if value == 'Psychology' else 1 if value == 'Economics' else 2 if value == 'Computer Science' else 3 for value in data['major']]"
   ]
  },
  {
   "cell_type": "code",
   "execution_count": 39,
   "id": "b57e8ae3-b98b-4063-bc9a-de79800e2bd3",
   "metadata": {},
   "outputs": [
    {
     "data": {
      "text/plain": [
       "array([0, 1, 2, 3])"
      ]
     },
     "execution_count": 39,
     "metadata": {},
     "output_type": "execute_result"
    }
   ],
   "source": [
    "data['major'].unique()"
   ]
  },
  {
   "cell_type": "markdown",
   "id": "9d018c76-37de-4c95-be82-8b0440ed2566",
   "metadata": {},
   "source": [
    "#####"
   ]
  },
  {
   "cell_type": "markdown",
   "id": "58631389-d9bd-4820-bdd5-9f8efcc294f7",
   "metadata": {},
   "source": [
    "##### set up X and y variables"
   ]
  },
  {
   "cell_type": "code",
   "execution_count": 42,
   "id": "00562e36-742f-4b51-9f6f-b69012d3b797",
   "metadata": {},
   "outputs": [],
   "source": [
    "X = data[['age', 'gender', 'year_in_school', 'major', 'monthly_income', 'financial_aid', 'tuition']]\n",
    "y = data['total_monthly_spending']"
   ]
  },
  {
   "cell_type": "markdown",
   "id": "72dbbe12-001e-4c66-afb7-eedcd8f5f839",
   "metadata": {},
   "source": [
    "#####"
   ]
  },
  {
   "cell_type": "markdown",
   "id": "2f6aa26a-d9f0-4e5d-9c8c-1d3debb7b459",
   "metadata": {},
   "source": [
    "##### training and test the data with model_selection"
   ]
  },
  {
   "cell_type": "code",
   "execution_count": 43,
   "id": "fe23dab4-f3b5-46c1-92c2-83308d8c25a8",
   "metadata": {},
   "outputs": [],
   "source": [
    "from sklearn import model_selection\n",
    "trainer = model_selection.train_test_split"
   ]
  },
  {
   "cell_type": "code",
   "execution_count": 44,
   "id": "a2ed7208-c38d-4acc-808c-4f4d71e0b463",
   "metadata": {},
   "outputs": [],
   "source": [
    "X_train, X_test, y_train, y_test = trainer(X, y, test_size = 0.2, random_state = 444)"
   ]
  },
  {
   "cell_type": "code",
   "execution_count": 46,
   "id": "84fe79d3-44d4-4752-b3c2-743e3935bbb7",
   "metadata": {},
   "outputs": [
    {
     "data": {
      "text/plain": [
       "(800, 200, 800, 200)"
      ]
     },
     "execution_count": 46,
     "metadata": {},
     "output_type": "execute_result"
    }
   ],
   "source": [
    "len(X_train), len(X_test), len(y_train), len(y_test)"
   ]
  },
  {
   "cell_type": "markdown",
   "id": "b5f57aaf-16a0-476d-b000-4e99d39a75a5",
   "metadata": {},
   "source": [
    "#####"
   ]
  },
  {
   "cell_type": "markdown",
   "id": "9548da5c-4318-4335-90b6-a7e492cdc878",
   "metadata": {},
   "source": [
    "importing linear_model to create linear regression model"
   ]
  },
  {
   "cell_type": "code",
   "execution_count": 47,
   "id": "e7c0be4a-4c25-4aa2-ad27-cb6187daeced",
   "metadata": {},
   "outputs": [],
   "source": [
    "from sklearn import linear_model"
   ]
  },
  {
   "cell_type": "code",
   "execution_count": 48,
   "id": "0774d56b-7e47-4f62-a6dc-bd2158395c99",
   "metadata": {},
   "outputs": [],
   "source": [
    "model = linear_model.LinearRegression()"
   ]
  },
  {
   "cell_type": "markdown",
   "id": "d003f6c4-8f71-48c5-b9fb-6084ebb7e278",
   "metadata": {},
   "source": [
    "#####"
   ]
  },
  {
   "cell_type": "markdown",
   "id": "c995176f-c426-44ca-adb0-79b760d8e7e5",
   "metadata": {},
   "source": [
    "##### training the model, finding intercept, r-score, and coefficients"
   ]
  },
  {
   "cell_type": "code",
   "execution_count": 49,
   "id": "ac7aec1f-321b-454c-bbf3-31d2673f27fc",
   "metadata": {},
   "outputs": [
    {
     "data": {
      "text/html": [
       "<style>#sk-container-id-1 {color: black;background-color: white;}#sk-container-id-1 pre{padding: 0;}#sk-container-id-1 div.sk-toggleable {background-color: white;}#sk-container-id-1 label.sk-toggleable__label {cursor: pointer;display: block;width: 100%;margin-bottom: 0;padding: 0.3em;box-sizing: border-box;text-align: center;}#sk-container-id-1 label.sk-toggleable__label-arrow:before {content: \"▸\";float: left;margin-right: 0.25em;color: #696969;}#sk-container-id-1 label.sk-toggleable__label-arrow:hover:before {color: black;}#sk-container-id-1 div.sk-estimator:hover label.sk-toggleable__label-arrow:before {color: black;}#sk-container-id-1 div.sk-toggleable__content {max-height: 0;max-width: 0;overflow: hidden;text-align: left;background-color: #f0f8ff;}#sk-container-id-1 div.sk-toggleable__content pre {margin: 0.2em;color: black;border-radius: 0.25em;background-color: #f0f8ff;}#sk-container-id-1 input.sk-toggleable__control:checked~div.sk-toggleable__content {max-height: 200px;max-width: 100%;overflow: auto;}#sk-container-id-1 input.sk-toggleable__control:checked~label.sk-toggleable__label-arrow:before {content: \"▾\";}#sk-container-id-1 div.sk-estimator input.sk-toggleable__control:checked~label.sk-toggleable__label {background-color: #d4ebff;}#sk-container-id-1 div.sk-label input.sk-toggleable__control:checked~label.sk-toggleable__label {background-color: #d4ebff;}#sk-container-id-1 input.sk-hidden--visually {border: 0;clip: rect(1px 1px 1px 1px);clip: rect(1px, 1px, 1px, 1px);height: 1px;margin: -1px;overflow: hidden;padding: 0;position: absolute;width: 1px;}#sk-container-id-1 div.sk-estimator {font-family: monospace;background-color: #f0f8ff;border: 1px dotted black;border-radius: 0.25em;box-sizing: border-box;margin-bottom: 0.5em;}#sk-container-id-1 div.sk-estimator:hover {background-color: #d4ebff;}#sk-container-id-1 div.sk-parallel-item::after {content: \"\";width: 100%;border-bottom: 1px solid gray;flex-grow: 1;}#sk-container-id-1 div.sk-label:hover label.sk-toggleable__label {background-color: #d4ebff;}#sk-container-id-1 div.sk-serial::before {content: \"\";position: absolute;border-left: 1px solid gray;box-sizing: border-box;top: 0;bottom: 0;left: 50%;z-index: 0;}#sk-container-id-1 div.sk-serial {display: flex;flex-direction: column;align-items: center;background-color: white;padding-right: 0.2em;padding-left: 0.2em;position: relative;}#sk-container-id-1 div.sk-item {position: relative;z-index: 1;}#sk-container-id-1 div.sk-parallel {display: flex;align-items: stretch;justify-content: center;background-color: white;position: relative;}#sk-container-id-1 div.sk-item::before, #sk-container-id-1 div.sk-parallel-item::before {content: \"\";position: absolute;border-left: 1px solid gray;box-sizing: border-box;top: 0;bottom: 0;left: 50%;z-index: -1;}#sk-container-id-1 div.sk-parallel-item {display: flex;flex-direction: column;z-index: 1;position: relative;background-color: white;}#sk-container-id-1 div.sk-parallel-item:first-child::after {align-self: flex-end;width: 50%;}#sk-container-id-1 div.sk-parallel-item:last-child::after {align-self: flex-start;width: 50%;}#sk-container-id-1 div.sk-parallel-item:only-child::after {width: 0;}#sk-container-id-1 div.sk-dashed-wrapped {border: 1px dashed gray;margin: 0 0.4em 0.5em 0.4em;box-sizing: border-box;padding-bottom: 0.4em;background-color: white;}#sk-container-id-1 div.sk-label label {font-family: monospace;font-weight: bold;display: inline-block;line-height: 1.2em;}#sk-container-id-1 div.sk-label-container {text-align: center;}#sk-container-id-1 div.sk-container {/* jupyter's `normalize.less` sets `[hidden] { display: none; }` but bootstrap.min.css set `[hidden] { display: none !important; }` so we also need the `!important` here to be able to override the default hidden behavior on the sphinx rendered scikit-learn.org. See: https://github.com/scikit-learn/scikit-learn/issues/21755 */display: inline-block !important;position: relative;}#sk-container-id-1 div.sk-text-repr-fallback {display: none;}</style><div id=\"sk-container-id-1\" class=\"sk-top-container\"><div class=\"sk-text-repr-fallback\"><pre>LinearRegression()</pre><b>In a Jupyter environment, please rerun this cell to show the HTML representation or trust the notebook. <br />On GitHub, the HTML representation is unable to render, please try loading this page with nbviewer.org.</b></div><div class=\"sk-container\" hidden><div class=\"sk-item\"><div class=\"sk-estimator sk-toggleable\"><input class=\"sk-toggleable__control sk-hidden--visually\" id=\"sk-estimator-id-1\" type=\"checkbox\" checked><label for=\"sk-estimator-id-1\" class=\"sk-toggleable__label sk-toggleable__label-arrow\">LinearRegression</label><div class=\"sk-toggleable__content\"><pre>LinearRegression()</pre></div></div></div></div></div>"
      ],
      "text/plain": [
       "LinearRegression()"
      ]
     },
     "execution_count": 49,
     "metadata": {},
     "output_type": "execute_result"
    }
   ],
   "source": [
    "model.fit(X_train, y_train)"
   ]
  },
  {
   "cell_type": "code",
   "execution_count": 50,
   "id": "c7cf607f-3207-4d9a-9869-cd7256f189cd",
   "metadata": {},
   "outputs": [
    {
     "data": {
      "text/plain": [
       "1695.3160530577081"
      ]
     },
     "execution_count": 50,
     "metadata": {},
     "output_type": "execute_result"
    }
   ],
   "source": [
    "model.intercept_"
   ]
  },
  {
   "cell_type": "markdown",
   "id": "fbb3a2e3-7796-4242-a41e-65472a99378b",
   "metadata": {},
   "source": [
    "##### *the intercept suggests that when the X values (age, gender, year, income, major, financial aid are all 0, the expected total monthly spending would be $1695.00*"
   ]
  },
  {
   "cell_type": "code",
   "execution_count": 51,
   "id": "a4607b7c-979c-49a9-876a-2adb04860de7",
   "metadata": {},
   "outputs": [
    {
     "data": {
      "text/plain": [
       "0.004905351219317344"
      ]
     },
     "execution_count": 51,
     "metadata": {},
     "output_type": "execute_result"
    }
   ],
   "source": [
    "model.score(X_train, y_train)"
   ]
  },
  {
   "cell_type": "markdown",
   "id": "0deb926a-22ac-48db-ab4b-a83cac36c845",
   "metadata": {},
   "source": [
    "##### *the r-square value is poorly low suggestign there may not be a relationship between the X and y values*"
   ]
  },
  {
   "cell_type": "markdown",
   "id": "39f39ed1-fd55-4d80-af92-c7e14263aec2",
   "metadata": {},
   "source": [
    "#####"
   ]
  },
  {
   "cell_type": "markdown",
   "id": "99037fae-8f75-4d45-9fb3-53b1a39da220",
   "metadata": {},
   "source": [
    "##### making predictions with X test"
   ]
  },
  {
   "cell_type": "code",
   "execution_count": 54,
   "id": "028dfe6e-c5d8-405a-96fa-81573d451a67",
   "metadata": {},
   "outputs": [],
   "source": [
    "predictions = model.predict(X_test)"
   ]
  },
  {
   "cell_type": "markdown",
   "id": "087b9b6d-9338-4874-9159-907c0303d771",
   "metadata": {},
   "source": [
    "#####"
   ]
  },
  {
   "cell_type": "markdown",
   "id": "d7ddf050-e958-4efc-ad99-7b45a9a2f931",
   "metadata": {},
   "source": [
    "##### using scatterplot to compare predictions and actual values to see if there is a relationship "
   ]
  },
  {
   "cell_type": "code",
   "execution_count": 59,
   "id": "c1c382c0-1cf1-40ce-853e-886623d1fdb1",
   "metadata": {},
   "outputs": [
    {
     "data": {
      "image/png": "[encoded data removed]",
      "text/plain": [
       "<Figure size 500x300 with 1 Axes>"
      ]
     },
     "metadata": {},
     "output_type": "display_data"
    }
   ],
   "source": [
    "plt.figure(figsize = (5,3))\n",
    "sns.scatterplot(x = predictions, y = y_test)\n",
    "plt.xlabel('predictions')\n",
    "plt.ylabel('total monthly spending')\n",
    "plt.show()"
   ]
  },
  {
   "cell_type": "markdown",
   "id": "8d49dcbb-bc65-4918-9525-ffe004db72e2",
   "metadata": {},
   "source": [
    "##### *there does not seem to be a relationship*"
   ]
  },
  {
   "cell_type": "markdown",
   "id": "8feb84d2-1aef-4246-932d-339b0940f86a",
   "metadata": {},
   "source": [
    "#####"
   ]
  },
  {
   "cell_type": "markdown",
   "id": "eda4ff79-3140-4ff8-a6b2-6add005e9b2d",
   "metadata": {},
   "source": [
    "##### evaluating the model using metrics"
   ]
  },
  {
   "cell_type": "markdown",
   "id": "a172fb46-5a24-42d3-b43d-60a1d19041b8",
   "metadata": {},
   "source": [
    "from sklearn import metrics\n",
    "import math"
   ]
  },
  {
   "cell_type": "code",
   "execution_count": 61,
   "id": "050d710d-6c2a-4092-9e97-2ff6f617fbb4",
   "metadata": {},
   "outputs": [],
   "source": [
    "mse = metrics.mean_squared_error\n",
    "mae = metrics.mean_absolute_error"
   ]
  },
  {
   "cell_type": "code",
   "execution_count": 63,
   "id": "784c4c86-3d4b-49fc-bf22-85f4859329a3",
   "metadata": {},
   "outputs": [
    {
     "name": "stdout",
     "output_type": "stream",
     "text": [
      "the mean squared error of the model is  66370.21681852239\n",
      "the mean absolute error of the model is  212.49791042241216\n",
      "the root mean squared error of the model is  257.62417747277215\n"
     ]
    }
   ],
   "source": [
    "print('the mean squared error of the model is ', mse(y_test, predictions))\n",
    "print('the mean absolute error of the model is ', mae(y_test, predictions))\n",
    "print('the root mean squared error of the model is ', math.sqrt(mse(y_test, predictions)))"
   ]
  },
  {
   "cell_type": "markdown",
   "id": "f61fcbb8-8526-44f2-a980-dd558936556a",
   "metadata": {},
   "source": [
    "##### "
   ]
  },
  {
   "cell_type": "markdown",
   "id": "9402c8b0-3bc3-48de-8bb6-426d0e3c0ef0",
   "metadata": {},
   "source": [
    "##### time to find the residuals of the data\n",
    "##### residuals = actual values - predictions"
   ]
  },
  {
   "cell_type": "code",
   "execution_count": 64,
   "id": "06ab03d7-ccaa-403e-b84d-149d2edbf86b",
   "metadata": {},
   "outputs": [],
   "source": [
    "residuals = y_test - predictions"
   ]
  },
  {
   "cell_type": "markdown",
   "id": "d82a9f98-3143-473b-b0f1-4a6debf77d8b",
   "metadata": {},
   "source": [
    "#####"
   ]
  },
  {
   "cell_type": "markdown",
   "id": "7dc798e9-b60d-4ca3-9959-22c9457ff30e",
   "metadata": {},
   "source": [
    "##### plotting residuals to see if they are normally distributed using hisplot"
   ]
  },
  {
   "cell_type": "code",
   "execution_count": 69,
   "id": "c0ac4acf-3c0f-4469-bc8d-94e9b2306230",
   "metadata": {},
   "outputs": [
    {
     "name": "stderr",
     "output_type": "stream",
     "text": [
      "/opt/anaconda3/lib/python3.11/site-packages/seaborn/_oldcore.py:1119: FutureWarning: use_inf_as_na option is deprecated and will be removed in a future version. Convert inf values to NaN before operating instead.\n",
      "  with pd.option_context('mode.use_inf_as_na', True):\n"
     ]
    },
    {
     "data": {
      "image/png": "[encoded data removed]",
      "text/plain": [
       "<Figure size 500x300 with 1 Axes>"
      ]
     },
     "metadata": {},
     "output_type": "display_data"
    }
   ],
   "source": [
    "plt.figure(figsize = (5,3))\n",
    "sns.histplot(residuals, kde = True)\n",
    "plt.xlabel('total monthly spending')\n",
    "plt.show()"
   ]
  },
  {
   "cell_type": "markdown",
   "id": "341f6c4d-7c19-45a4-9641-e2df5853aa58",
   "metadata": {},
   "source": [
    "##### *given how poor the model performed earlier, it is unsurprising that the residuals are left skewed, heavily!*"
   ]
  },
  {
   "cell_type": "markdown",
   "id": "9920c1f5-2d8a-4886-bae2-2a9beb78a754",
   "metadata": {},
   "source": [
    "#####"
   ]
  },
  {
   "cell_type": "markdown",
   "id": "7a929873-6761-44c8-aaae-c18871565b00",
   "metadata": {},
   "source": [
    "##### qq plots"
   ]
  },
  {
   "cell_type": "code",
   "execution_count": 70,
   "id": "9dbfde4c-0145-45a5-a9ca-d96dc1571337",
   "metadata": {},
   "outputs": [],
   "source": [
    "import scipy.stats as stats\n",
    "import pylab"
   ]
  },
  {
   "cell_type": "code",
   "execution_count": 72,
   "id": "c0ea9720-895d-4ffc-a049-35ffadef341d",
   "metadata": {},
   "outputs": [
    {
     "data": {
      "image/png": "[encoded data removed]",
      "text/plain": [
       "<Figure size 500x300 with 1 Axes>"
      ]
     },
     "metadata": {},
     "output_type": "display_data"
    }
   ],
   "source": [
    "plt.figure(figsize = (5,3))\n",
    "stats.probplot(residuals, dist = 'norm', plot = pylab)\n",
    "pylab.show()"
   ]
  },
  {
   "cell_type": "markdown",
   "id": "d43aa3d8-e109-4c67-8cb7-348635af7f30",
   "metadata": {},
   "source": [
    "##### *Hmmm, looking at the qq plot, the data points diverge at the upper tail which explains why the model is heavily skewed to one side*"
   ]
  },
  {
   "cell_type": "markdown",
   "id": "b027170c-dee8-4262-8b4a-65a64b1c43b3",
   "metadata": {},
   "source": [
    "#####"
   ]
  },
  {
   "cell_type": "markdown",
   "id": "eb780bf2-fd71-4375-86f8-da7992c5f16b",
   "metadata": {},
   "source": [
    "### FINAL ANALYSIS\n",
    "##### * Overall, the model could barely find a relationship between the X and y variables\n",
    "##### * I suspect that this is due to some X values being totally unrelated to the y variable\n",
    "##### * I suspect the numerical transformation of the categorical variables may not have been well done"
   ]
  },
  {
   "cell_type": "markdown",
   "id": "cb99b1e1-197b-4ce2-8b4b-757612304d18",
   "metadata": {},
   "source": [
    "#####"
   ]
  },
  {
   "cell_type": "markdown",
   "id": "4b46c6b2-50ad-4e67-a29b-508b50f57057",
   "metadata": {},
   "source": [
    "### NEXT STEPS\n",
    "##### try to perform linear regression on subsets of the X to find any relationship\n",
    "##### perform shrinkage/regularization to see if the relationship between X and y improves\n",
    "##### remove some X variables completely from the dataset"
   ]
  },
  {
   "cell_type": "markdown",
   "id": "cea86a4e-95f5-48ea-aa4f-ae470662588c",
   "metadata": {},
   "source": [
    "#"
   ]
  },
  {
   "cell_type": "markdown",
   "id": "fbabbbdb-c590-4e72-bae9-ab10be7b9260",
   "metadata": {},
   "source": [
    "#"
   ]
  },
  {
   "cell_type": "markdown",
   "id": "7145adae-7202-4c85-af46-520b214f132b",
   "metadata": {},
   "source": [
    "#"
   ]
  },
  {
   "cell_type": "markdown",
   "id": "ed37014f-5e96-45e2-b240-70c340ce579c",
   "metadata": {},
   "source": [
    "#"
   ]
  },
  {
   "cell_type": "markdown",
   "id": "4b391a82-a59f-4c3e-b4eb-f6f00ae349e3",
   "metadata": {},
   "source": [
    "## LOGISTIC REGRESSION MODEL TO PREDICT IF A STUDENT WILL EXCEED THE BUDGET THRESHOLD"
   ]
  },
  {
   "cell_type": "markdown",
   "id": "97a9e367-f06c-40a6-994c-f32d90af6692",
   "metadata": {},
   "source": [
    "###"
   ]
  },
  {
   "cell_type": "markdown",
   "id": "ec110ef3-ba16-4113-9f36-664b9e2c6dc6",
   "metadata": {},
   "source": [
    "##### creating the threshold column"
   ]
  },
  {
   "cell_type": "code",
   "execution_count": 108,
   "id": "593491d7-768f-4544-b7af-5f26d17c6e27",
   "metadata": {},
   "outputs": [],
   "source": [
    "data['budget_threshold'] = [ 1 if value > 1900 else 0 for value in data['total_monthly_spending']]"
   ]
  },
  {
   "cell_type": "markdown",
   "id": "8ff7b025-f0b3-4ead-87af-6b881d47959c",
   "metadata": {},
   "source": [
    "#####"
   ]
  },
  {
   "cell_type": "markdown",
   "id": "58b59bd6-72a7-4a34-8aa5-bc578869b394",
   "metadata": {},
   "source": [
    "##### plotting the threshold column"
   ]
  },
  {
   "cell_type": "code",
   "execution_count": 118,
   "id": "4d5bc410-2ab9-4b9b-8dc3-eeed21d915b6",
   "metadata": {},
   "outputs": [
    {
     "data": {
      "text/plain": [
       "Text(0, 0.5, 'Frequency')"
      ]
     },
     "execution_count": 118,
     "metadata": {},
     "output_type": "execute_result"
    },
    {
     "data": {
      "image/png": "[encoded data removed]",
      "text/plain": [
       "<Figure size 400x400 with 1 Axes>"
      ]
     },
     "metadata": {},
     "output_type": "display_data"
    }
   ],
   "source": [
    "plt.figure(figsize = (4,4))\n",
    "colors = ['pink', 'lightgreen']\n",
    "data['budget_threshold'].value_counts().plot(kind = 'bar', color = colors)\n",
    "plt.title('0 = Did Not Exceed  Threshold, 1 = Did  Exceed  Threshold')\n",
    "plt.xlabel('Budget Thresholds')\n",
    "plt.ylabel('Frequency')"
   ]
  },
  {
   "cell_type": "markdown",
   "id": "d3a5515d-1a19-4391-9654-c11349143539",
   "metadata": {},
   "source": [
    "#####"
   ]
  },
  {
   "cell_type": "markdown",
   "id": "346d9afb-9560-4dcd-a217-5f5f8fd29532",
   "metadata": {},
   "source": [
    "##### splitting data into X and y"
   ]
  },
  {
   "cell_type": "code",
   "execution_count": 126,
   "id": "dc8c1a5e-b42e-4f37-b49c-d071933fd84e",
   "metadata": {},
   "outputs": [],
   "source": [
    "X = data.drop(columns = ['budget_threshold', 'preferred_payment_method'])\n",
    "y = data['budget_threshold']"
   ]
  },
  {
   "cell_type": "markdown",
   "id": "9cdcd336-87f2-4236-97d8-43dba563859d",
   "metadata": {},
   "source": [
    "#####"
   ]
  },
  {
   "cell_type": "markdown",
   "id": "cf577674-0240-4d8d-ae6d-8bfc48d6270f",
   "metadata": {},
   "source": [
    "##### normalize the x values to be in the same range"
   ]
  },
  {
   "cell_type": "code",
   "execution_count": 127,
   "id": "245c0a90-b107-4ada-859c-b2f20b18e89e",
   "metadata": {},
   "outputs": [],
   "source": [
    "from sklearn import preprocessing\n",
    "scaler = preprocessing.StandardScaler()"
   ]
  },
  {
   "cell_type": "code",
   "execution_count": 128,
   "id": "e59b6680-5183-42d6-a06c-cd20fd962692",
   "metadata": {},
   "outputs": [],
   "source": [
    "X_scaled = scaler.fit_transform(X)"
   ]
  },
  {
   "cell_type": "code",
   "execution_count": 129,
   "id": "108b946b-2d3a-417b-9bae-1511f3149c2d",
   "metadata": {},
   "outputs": [
    {
     "data": {
      "text/plain": [
       "array([[-1.73031962, -1.15227087,  1.25903931, ...,  0.25601844,\n",
       "        -0.70457744, -0.11361338],\n",
       "       [-1.72685552,  1.00150646,  0.04257621, ...,  0.29636808,\n",
       "        -0.78093371,  0.2219872 ],\n",
       "       [-1.72339142,  1.00150646,  1.25903931, ..., -0.04660383,\n",
       "         0.45985561, -0.15136845],\n",
       "       ...,\n",
       "       [ 1.72339142, -0.72151541, -1.17388689, ..., -1.15621882,\n",
       "        -1.54449637,  0.00804183],\n",
       "       [ 1.72685552,  0.13999553,  1.25903931, ..., -0.26852683,\n",
       "        -0.83820091, -0.49116403],\n",
       "       [ 1.73031962,  1.00150646,  1.25903931, ..., -0.53079946,\n",
       "         0.68892441,  0.77992316]])"
      ]
     },
     "execution_count": 129,
     "metadata": {},
     "output_type": "execute_result"
    }
   ],
   "source": [
    "X_scaled"
   ]
  },
  {
   "cell_type": "markdown",
   "id": "21845007-8fe2-4184-a873-8239f0d416a2",
   "metadata": {},
   "source": [
    "##### split data into test and train"
   ]
  },
  {
   "cell_type": "code",
   "execution_count": 131,
   "id": "0494afcf-1730-4727-8a3f-8d5f6b138231",
   "metadata": {},
   "outputs": [],
   "source": [
    "from sklearn import model_selection\n",
    "trainer = model_selection.train_test_split"
   ]
  },
  {
   "cell_type": "code",
   "execution_count": 132,
   "id": "758158ff-ca4a-4f05-a09f-6e42ecf21875",
   "metadata": {},
   "outputs": [],
   "source": [
    "X_train, X_test, y_train, y_test = trainer(X_scaled, y, test_size = 0.2, random_state = 100)"
   ]
  },
  {
   "cell_type": "markdown",
   "id": "cd53874a-fb2f-481a-a0f2-10e36bb80ee6",
   "metadata": {},
   "source": [
    "#####"
   ]
  },
  {
   "cell_type": "markdown",
   "id": "86624fa6-eacf-4907-88f1-e17d3af688da",
   "metadata": {},
   "source": [
    "##### importing linear model"
   ]
  },
  {
   "cell_type": "code",
   "execution_count": 143,
   "id": "ab3435b5-a083-49c0-8d65-3be56223fc83",
   "metadata": {},
   "outputs": [],
   "source": [
    "from sklearn import linear_model"
   ]
  },
  {
   "cell_type": "code",
   "execution_count": 144,
   "id": "5094a8f9-b77e-4572-8a71-e07a467b28aa",
   "metadata": {},
   "outputs": [],
   "source": [
    "model5 = linear_model.LogisticRegression()"
   ]
  },
  {
   "cell_type": "markdown",
   "id": "1602bd05-2a71-46ab-b9b0-6a500584d778",
   "metadata": {},
   "source": [
    "#####"
   ]
  },
  {
   "cell_type": "markdown",
   "id": "d539bb03-15c3-4ea7-8098-73d4174c9b40",
   "metadata": {},
   "source": [
    "##### training the model and finding predictions"
   ]
  },
  {
   "cell_type": "code",
   "execution_count": 145,
   "id": "b62cb36a-3872-4ff4-92a3-dc23a303ac93",
   "metadata": {},
   "outputs": [
    {
     "data": {
      "text/html": [
       "<style>#sk-container-id-10 {color: black;background-color: white;}#sk-container-id-10 pre{padding: 0;}#sk-container-id-10 div.sk-toggleable {background-color: white;}#sk-container-id-10 label.sk-toggleable__label {cursor: pointer;display: block;width: 100%;margin-bottom: 0;padding: 0.3em;box-sizing: border-box;text-align: center;}#sk-container-id-10 label.sk-toggleable__label-arrow:before {content: \"▸\";float: left;margin-right: 0.25em;color: #696969;}#sk-container-id-10 label.sk-toggleable__label-arrow:hover:before {color: black;}#sk-container-id-10 div.sk-estimator:hover label.sk-toggleable__label-arrow:before {color: black;}#sk-container-id-10 div.sk-toggleable__content {max-height: 0;max-width: 0;overflow: hidden;text-align: left;background-color: #f0f8ff;}#sk-container-id-10 div.sk-toggleable__content pre {margin: 0.2em;color: black;border-radius: 0.25em;background-color: #f0f8ff;}#sk-container-id-10 input.sk-toggleable__control:checked~div.sk-toggleable__content {max-height: 200px;max-width: 100%;overflow: auto;}#sk-container-id-10 input.sk-toggleable__control:checked~label.sk-toggleable__label-arrow:before {content: \"▾\";}#sk-container-id-10 div.sk-estimator input.sk-toggleable__control:checked~label.sk-toggleable__label {background-color: #d4ebff;}#sk-container-id-10 div.sk-label input.sk-toggleable__control:checked~label.sk-toggleable__label {background-color: #d4ebff;}#sk-container-id-10 input.sk-hidden--visually {border: 0;clip: rect(1px 1px 1px 1px);clip: rect(1px, 1px, 1px, 1px);height: 1px;margin: -1px;overflow: hidden;padding: 0;position: absolute;width: 1px;}#sk-container-id-10 div.sk-estimator {font-family: monospace;background-color: #f0f8ff;border: 1px dotted black;border-radius: 0.25em;box-sizing: border-box;margin-bottom: 0.5em;}#sk-container-id-10 div.sk-estimator:hover {background-color: #d4ebff;}#sk-container-id-10 div.sk-parallel-item::after {content: \"\";width: 100%;border-bottom: 1px solid gray;flex-grow: 1;}#sk-container-id-10 div.sk-label:hover label.sk-toggleable__label {background-color: #d4ebff;}#sk-container-id-10 div.sk-serial::before {content: \"\";position: absolute;border-left: 1px solid gray;box-sizing: border-box;top: 0;bottom: 0;left: 50%;z-index: 0;}#sk-container-id-10 div.sk-serial {display: flex;flex-direction: column;align-items: center;background-color: white;padding-right: 0.2em;padding-left: 0.2em;position: relative;}#sk-container-id-10 div.sk-item {position: relative;z-index: 1;}#sk-container-id-10 div.sk-parallel {display: flex;align-items: stretch;justify-content: center;background-color: white;position: relative;}#sk-container-id-10 div.sk-item::before, #sk-container-id-10 div.sk-parallel-item::before {content: \"\";position: absolute;border-left: 1px solid gray;box-sizing: border-box;top: 0;bottom: 0;left: 50%;z-index: -1;}#sk-container-id-10 div.sk-parallel-item {display: flex;flex-direction: column;z-index: 1;position: relative;background-color: white;}#sk-container-id-10 div.sk-parallel-item:first-child::after {align-self: flex-end;width: 50%;}#sk-container-id-10 div.sk-parallel-item:last-child::after {align-self: flex-start;width: 50%;}#sk-container-id-10 div.sk-parallel-item:only-child::after {width: 0;}#sk-container-id-10 div.sk-dashed-wrapped {border: 1px dashed gray;margin: 0 0.4em 0.5em 0.4em;box-sizing: border-box;padding-bottom: 0.4em;background-color: white;}#sk-container-id-10 div.sk-label label {font-family: monospace;font-weight: bold;display: inline-block;line-height: 1.2em;}#sk-container-id-10 div.sk-label-container {text-align: center;}#sk-container-id-10 div.sk-container {/* jupyter's `normalize.less` sets `[hidden] { display: none; }` but bootstrap.min.css set `[hidden] { display: none !important; }` so we also need the `!important` here to be able to override the default hidden behavior on the sphinx rendered scikit-learn.org. See: https://github.com/scikit-learn/scikit-learn/issues/21755 */display: inline-block !important;position: relative;}#sk-container-id-10 div.sk-text-repr-fallback {display: none;}</style><div id=\"sk-container-id-10\" class=\"sk-top-container\"><div class=\"sk-text-repr-fallback\"><pre>LogisticRegression()</pre><b>In a Jupyter environment, please rerun this cell to show the HTML representation or trust the notebook. <br />On GitHub, the HTML representation is unable to render, please try loading this page with nbviewer.org.</b></div><div class=\"sk-container\" hidden><div class=\"sk-item\"><div class=\"sk-estimator sk-toggleable\"><input class=\"sk-toggleable__control sk-hidden--visually\" id=\"sk-estimator-id-10\" type=\"checkbox\" checked><label for=\"sk-estimator-id-10\" class=\"sk-toggleable__label sk-toggleable__label-arrow\">LogisticRegression</label><div class=\"sk-toggleable__content\"><pre>LogisticRegression()</pre></div></div></div></div></div>"
      ],
      "text/plain": [
       "LogisticRegression()"
      ]
     },
     "execution_count": 145,
     "metadata": {},
     "output_type": "execute_result"
    }
   ],
   "source": [
    "model5.fit(X_train, y_train)"
   ]
  },
  {
   "cell_type": "code",
   "execution_count": 146,
   "id": "24e76de1-14e6-4fdb-b637-de86d96971fe",
   "metadata": {},
   "outputs": [
    {
     "data": {
      "text/plain": [
       "0.99375"
      ]
     },
     "execution_count": 146,
     "metadata": {},
     "output_type": "execute_result"
    }
   ],
   "source": [
    "model5.score(X_train, y_train)"
   ]
  },
  {
   "cell_type": "markdown",
   "id": "53fbdad0-01e1-418b-9eb7-d3ede415ece8",
   "metadata": {},
   "source": [
    "##### *the logistic regression model has a much higher r-squared compared to the linear regression models from earlier*"
   ]
  },
  {
   "cell_type": "code",
   "execution_count": 150,
   "id": "7902ee58-a1c4-41f6-b189-e1368175d2fb",
   "metadata": {},
   "outputs": [],
   "source": [
    "predictions = model5.predict(X_test)"
   ]
  },
  {
   "cell_type": "markdown",
   "id": "8a6b73df-873b-4833-b7ba-31521c544679",
   "metadata": {},
   "source": [
    "#####"
   ]
  },
  {
   "cell_type": "markdown",
   "id": "f5b4f217-cb9f-4b1a-b5df-2493cd58c4fa",
   "metadata": {},
   "source": [
    "##### evaluating the model"
   ]
  },
  {
   "cell_type": "code",
   "execution_count": 151,
   "id": "1de777f2-6ed6-4e0e-9670-68a9aed9ccca",
   "metadata": {},
   "outputs": [],
   "source": [
    "from sklearn import metrics"
   ]
  },
  {
   "cell_type": "markdown",
   "id": "c84466d1-4fb7-4e01-839c-800d56b5c9d7",
   "metadata": {},
   "source": [
    "##### accuracy:"
   ]
  },
  {
   "cell_type": "code",
   "execution_count": 152,
   "id": "21f48cf0-86b2-4da4-b7cd-0285eb53f866",
   "metadata": {},
   "outputs": [
    {
     "name": "stdout",
     "output_type": "stream",
     "text": [
      "accuracy of the model is 0.995\n"
     ]
    }
   ],
   "source": [
    "scorer = metrics.accuracy_score\n",
    "accuracy = scorer(y_test, predictions)\n",
    "print('accuracy of the model is', accuracy)"
   ]
  },
  {
   "cell_type": "markdown",
   "id": "1e2de10b-0ed9-4062-bdbc-5deddae9339f",
   "metadata": {},
   "source": [
    "##### *the accuracy score of 0.995 means 99.5% of the predictions are correct predictions. which is remarkable*"
   ]
  },
  {
   "cell_type": "markdown",
   "id": "7bb33566-a092-492e-8152-d56690191d95",
   "metadata": {},
   "source": [
    "#####"
   ]
  },
  {
   "cell_type": "markdown",
   "id": "af8282e3-748c-46bd-bb83-337106910794",
   "metadata": {},
   "source": [
    "##### classification report:"
   ]
  },
  {
   "cell_type": "code",
   "execution_count": 155,
   "id": "50a36c4a-49a1-46a9-a303-80a6b30a9845",
   "metadata": {},
   "outputs": [
    {
     "name": "stdout",
     "output_type": "stream",
     "text": [
      "classification report:\n",
      "               precision    recall  f1-score   support\n",
      "\n",
      "           0       1.00      0.99      1.00       138\n",
      "           1       0.98      1.00      0.99        62\n",
      "\n",
      "    accuracy                           0.99       200\n",
      "   macro avg       0.99      1.00      0.99       200\n",
      "weighted avg       1.00      0.99      1.00       200\n",
      "\n"
     ]
    }
   ],
   "source": [
    "reporter = metrics.classification_report\n",
    "print(f'classification report:\\n {reporter(y_test, predictions)}')"
   ]
  },
  {
   "cell_type": "markdown",
   "id": "12c2fafa-c00e-47ca-b2ed-904e7905684f",
   "metadata": {},
   "source": [
    "#####"
   ]
  },
  {
   "cell_type": "markdown",
   "id": "7d48a276-defa-46d6-8360-98b459fd4174",
   "metadata": {},
   "source": [
    "##### confusion matrix:"
   ]
  },
  {
   "cell_type": "code",
   "execution_count": 158,
   "id": "3bfa79d3-ebc6-4b90-9019-0651b1bced71",
   "metadata": {},
   "outputs": [
    {
     "name": "stdout",
     "output_type": "stream",
     "text": [
      "confusion matrix:\n",
      " [[137   1]\n",
      " [  0  62]]\n"
     ]
    }
   ],
   "source": [
    "matrix = metrics.confusion_matrix\n",
    "cm = matrix(y_test, predictions)\n",
    "print(f'confusion matrix:\\n {cm}')"
   ]
  },
  {
   "cell_type": "code",
   "execution_count": 160,
   "id": "fd3ca111-51e5-4112-957b-4963a0a3ab90",
   "metadata": {},
   "outputs": [],
   "source": [
    "cm = [[137,1],[0,62]]"
   ]
  },
  {
   "cell_type": "markdown",
   "id": "42e903b8-ad47-4907-9f42-6278da8fafdd",
   "metadata": {},
   "source": [
    "#####"
   ]
  },
  {
   "cell_type": "markdown",
   "id": "40881294-8203-4bbb-a67d-9813852f8980",
   "metadata": {},
   "source": [
    "##### plotting the confusion matrix of the model"
   ]
  },
  {
   "cell_type": "code",
   "execution_count": 173,
   "id": "2646ae11-4ed5-4cf4-b89b-0edadfe1fff2",
   "metadata": {},
   "outputs": [
    {
     "data": {
      "text/plain": [
       "<Axes: >"
      ]
     },
     "execution_count": 173,
     "metadata": {},
     "output_type": "execute_result"
    },
    {
     "data": {
      "image/png": "[encoded data removed]",
      "text/plain": [
       "<Figure size 640x480 with 2 Axes>"
      ]
     },
     "metadata": {},
     "output_type": "display_data"
    }
   ],
   "source": [
    "sns.heatmap(cm, annot = True, cmap = \"Blues\", xticklabels = ['Predicted Not Exceeding', 'Predicted Exceeding'],\\\n",
    "            yticklabels = ['Actual Not Exceeding', 'Actual Exceeding'])\n",
    "                                              "
   ]
  },
  {
   "cell_type": "markdown",
   "id": "6c59ffcb-251f-4d25-9b5c-a219be6a1e3a",
   "metadata": {},
   "source": [
    "#####"
   ]
  },
  {
   "cell_type": "markdown",
   "id": "2c30cefc-9f11-4ebd-afdd-d0550d716c35",
   "metadata": {},
   "source": [
    "#### *Judging by the heatmap, the model was very good at predicting if a student would exceed or not exceed their budget based on the training data*"
   ]
  },
  {
   "cell_type": "markdown",
   "id": "39375b28-5316-4532-846e-d4f3cbc49c51",
   "metadata": {},
   "source": [
    "#"
   ]
  },
  {
   "cell_type": "markdown",
   "id": "500779bb-4847-4a5d-8292-565bac19e9e3",
   "metadata": {},
   "source": [
    "#"
   ]
  }
 ],
 "metadata": {
  "kernelspec": {
   "display_name": "Python 3 (ipykernel)",
   "language": "python",
   "name": "python3"
  },
  "language_info": {
   "codemirror_mode": {
    "name": "ipython",
    "version": 3
   },
   "file_extension": ".py",
   "mimetype": "text/x-python",
   "name": "python",
   "nbconvert_exporter": "python",
   "pygments_lexer": "ipython3",
   "version": "3.11.7"
  }
 },
 "nbformat": 4,
 "nbformat_minor": 5
}
