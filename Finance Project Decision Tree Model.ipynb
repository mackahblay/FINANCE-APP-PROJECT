{
 "cells": [
  {
   "cell_type": "markdown",
   "id": "0881d3de-e68d-4e1b-ab22-6ad01c56214f",
   "metadata": {},
   "source": [
    "## MELCHIZEDEK ACKAH-BLAY\n",
    "### 06-17-2024\n",
    "### DECISION TREE PORTION OF PROJECT"
   ]
  },
  {
   "cell_type": "markdown",
   "id": "6adc25aa-dc9a-4d5b-93b1-2d0aae9eeb93",
   "metadata": {},
   "source": [
    "#####"
   ]
  },
  {
   "cell_type": "markdown",
   "id": "c768260d-8843-4cec-ad98-e0cd2be7c981",
   "metadata": {},
   "source": [
    "##### load modules"
   ]
  },
  {
   "cell_type": "code",
   "execution_count": 56,
   "id": "24ace6d2-608f-4ad3-8764-3769d64d929e",
   "metadata": {},
   "outputs": [],
   "source": [
    "import pandas as pd\n",
    "import numpy as np\n",
    "import matplotlib.pyplot as plt\n",
    "import seaborn as sns"
   ]
  },
  {
   "cell_type": "markdown",
   "id": "a6f3a496-d360-451d-b763-f1f9ff7c2ea0",
   "metadata": {},
   "source": [
    "#####"
   ]
  },
  {
   "cell_type": "markdown",
   "id": "51b0cfe4-c769-47f2-823a-1d8124f4f7ca",
   "metadata": {},
   "source": [
    "##### load dataset"
   ]
  },
  {
   "cell_type": "code",
   "execution_count": 57,
   "id": "66b3588d-cc94-4954-b3c3-c73459dd6047",
   "metadata": {},
   "outputs": [
    {
     "data": {
      "text/html": [
       "<div>\n",
       "<style scoped>\n",
       "    .dataframe tbody tr th:only-of-type {\n",
       "        vertical-align: middle;\n",
       "    }\n",
       "\n",
       "    .dataframe tbody tr th {\n",
       "        vertical-align: top;\n",
       "    }\n",
       "\n",
       "    .dataframe thead th {\n",
       "        text-align: right;\n",
       "    }\n",
       "</style>\n",
       "<table border=\"1\" class=\"dataframe\">\n",
       "  <thead>\n",
       "    <tr style=\"text-align: right;\">\n",
       "      <th></th>\n",
       "      <th>index</th>\n",
       "      <th>Date</th>\n",
       "      <th>Year</th>\n",
       "      <th>Month</th>\n",
       "      <th>Customer Age</th>\n",
       "      <th>Customer Gender</th>\n",
       "      <th>Country</th>\n",
       "      <th>State</th>\n",
       "      <th>Product Category</th>\n",
       "      <th>Sub Category</th>\n",
       "      <th>Quantity</th>\n",
       "      <th>Unit Cost</th>\n",
       "      <th>Unit Price</th>\n",
       "      <th>Cost</th>\n",
       "      <th>Revenue</th>\n",
       "      <th>Column1</th>\n",
       "    </tr>\n",
       "  </thead>\n",
       "  <tbody>\n",
       "    <tr>\n",
       "      <th>0</th>\n",
       "      <td>0</td>\n",
       "      <td>02/19/16</td>\n",
       "      <td>2016.0</td>\n",
       "      <td>February</td>\n",
       "      <td>29.0</td>\n",
       "      <td>F</td>\n",
       "      <td>United States</td>\n",
       "      <td>Washington</td>\n",
       "      <td>Accessories</td>\n",
       "      <td>Tires and Tubes</td>\n",
       "      <td>1.0</td>\n",
       "      <td>80.00</td>\n",
       "      <td>109.000000</td>\n",
       "      <td>80.0</td>\n",
       "      <td>109.0</td>\n",
       "      <td>NaN</td>\n",
       "    </tr>\n",
       "    <tr>\n",
       "      <th>1</th>\n",
       "      <td>1</td>\n",
       "      <td>02/20/16</td>\n",
       "      <td>2016.0</td>\n",
       "      <td>February</td>\n",
       "      <td>29.0</td>\n",
       "      <td>F</td>\n",
       "      <td>United States</td>\n",
       "      <td>Washington</td>\n",
       "      <td>Clothing</td>\n",
       "      <td>Gloves</td>\n",
       "      <td>2.0</td>\n",
       "      <td>24.50</td>\n",
       "      <td>28.500000</td>\n",
       "      <td>49.0</td>\n",
       "      <td>57.0</td>\n",
       "      <td>NaN</td>\n",
       "    </tr>\n",
       "    <tr>\n",
       "      <th>2</th>\n",
       "      <td>2</td>\n",
       "      <td>02/27/16</td>\n",
       "      <td>2016.0</td>\n",
       "      <td>February</td>\n",
       "      <td>29.0</td>\n",
       "      <td>F</td>\n",
       "      <td>United States</td>\n",
       "      <td>Washington</td>\n",
       "      <td>Accessories</td>\n",
       "      <td>Tires and Tubes</td>\n",
       "      <td>3.0</td>\n",
       "      <td>3.67</td>\n",
       "      <td>5.000000</td>\n",
       "      <td>11.0</td>\n",
       "      <td>15.0</td>\n",
       "      <td>NaN</td>\n",
       "    </tr>\n",
       "    <tr>\n",
       "      <th>3</th>\n",
       "      <td>3</td>\n",
       "      <td>03/12/16</td>\n",
       "      <td>2016.0</td>\n",
       "      <td>March</td>\n",
       "      <td>29.0</td>\n",
       "      <td>F</td>\n",
       "      <td>United States</td>\n",
       "      <td>Washington</td>\n",
       "      <td>Accessories</td>\n",
       "      <td>Tires and Tubes</td>\n",
       "      <td>2.0</td>\n",
       "      <td>87.50</td>\n",
       "      <td>116.500000</td>\n",
       "      <td>175.0</td>\n",
       "      <td>233.0</td>\n",
       "      <td>NaN</td>\n",
       "    </tr>\n",
       "    <tr>\n",
       "      <th>4</th>\n",
       "      <td>4</td>\n",
       "      <td>03/12/16</td>\n",
       "      <td>2016.0</td>\n",
       "      <td>March</td>\n",
       "      <td>29.0</td>\n",
       "      <td>F</td>\n",
       "      <td>United States</td>\n",
       "      <td>Washington</td>\n",
       "      <td>Accessories</td>\n",
       "      <td>Tires and Tubes</td>\n",
       "      <td>3.0</td>\n",
       "      <td>35.00</td>\n",
       "      <td>41.666667</td>\n",
       "      <td>105.0</td>\n",
       "      <td>125.0</td>\n",
       "      <td>NaN</td>\n",
       "    </tr>\n",
       "  </tbody>\n",
       "</table>\n",
       "</div>"
      ],
      "text/plain": [
       "   index      Date    Year     Month  Customer Age Customer Gender  \\\n",
       "0      0  02/19/16  2016.0  February          29.0               F   \n",
       "1      1  02/20/16  2016.0  February          29.0               F   \n",
       "2      2  02/27/16  2016.0  February          29.0               F   \n",
       "3      3  03/12/16  2016.0     March          29.0               F   \n",
       "4      4  03/12/16  2016.0     March          29.0               F   \n",
       "\n",
       "         Country       State Product Category     Sub Category  Quantity  \\\n",
       "0  United States  Washington      Accessories  Tires and Tubes       1.0   \n",
       "1  United States  Washington         Clothing           Gloves       2.0   \n",
       "2  United States  Washington      Accessories  Tires and Tubes       3.0   \n",
       "3  United States  Washington      Accessories  Tires and Tubes       2.0   \n",
       "4  United States  Washington      Accessories  Tires and Tubes       3.0   \n",
       "\n",
       "   Unit Cost  Unit Price   Cost  Revenue  Column1  \n",
       "0      80.00  109.000000   80.0    109.0      NaN  \n",
       "1      24.50   28.500000   49.0     57.0      NaN  \n",
       "2       3.67    5.000000   11.0     15.0      NaN  \n",
       "3      87.50  116.500000  175.0    233.0      NaN  \n",
       "4      35.00   41.666667  105.0    125.0      NaN  "
      ]
     },
     "execution_count": 57,
     "metadata": {},
     "output_type": "execute_result"
    }
   ],
   "source": [
    "data = pd.read_csv(r\"/Users/melki/Desktop/SalesForCourse_quizz_table.csv\")\n",
    "data.head(5)"
   ]
  },
  {
   "cell_type": "markdown",
   "id": "c7fac547-daef-4609-8d5c-3244b63b6848",
   "metadata": {},
   "source": [
    "#####"
   ]
  },
  {
   "cell_type": "markdown",
   "id": "6d515116-040d-4c84-ab52-95a06848e6cf",
   "metadata": {},
   "source": [
    "##### find number of columns"
   ]
  },
  {
   "cell_type": "code",
   "execution_count": 58,
   "id": "a8c67b49-aba2-4426-9ea7-e3bc72ed0219",
   "metadata": {},
   "outputs": [
    {
     "data": {
      "text/plain": [
       "Index(['index', 'Date', 'Year', 'Month', 'Customer Age', 'Customer Gender',\n",
       "       'Country', 'State', 'Product Category', 'Sub Category', 'Quantity',\n",
       "       'Unit Cost', 'Unit Price', 'Cost', 'Revenue', 'Column1'],\n",
       "      dtype='object')"
      ]
     },
     "execution_count": 58,
     "metadata": {},
     "output_type": "execute_result"
    }
   ],
   "source": [
    "data.columns"
   ]
  },
  {
   "cell_type": "markdown",
   "id": "49faccd6-0fcc-4c2e-af60-cfb2d084b774",
   "metadata": {},
   "source": [
    "#####"
   ]
  },
  {
   "cell_type": "markdown",
   "id": "94566991-ac56-47b1-b3ac-ddd318231fc4",
   "metadata": {},
   "source": [
    "##### dropping columns I do not need"
   ]
  },
  {
   "cell_type": "code",
   "execution_count": 60,
   "id": "a4daabf9-0f65-46a1-97b3-04d477f86fa0",
   "metadata": {},
   "outputs": [],
   "source": [
    "data.drop(columns = ['Column1', 'Date'], inplace = True)"
   ]
  },
  {
   "cell_type": "markdown",
   "id": "0a17774b-76b0-42f6-b49a-919e0b84dcd7",
   "metadata": {},
   "source": [
    "##### renaming columns for ease of use"
   ]
  },
  {
   "cell_type": "code",
   "execution_count": 63,
   "id": "176cd5ba-b1c2-4e6d-883e-91c6f7693405",
   "metadata": {},
   "outputs": [],
   "source": [
    "data.rename(columns = {'Customer Age':'Customer_Age', 'Product Category':'Product_Category', 'Sub Category':'Sub_Category', 'Unit Cost':'Unit_Cost', 'Unit Price':'Unit_Price'}, inplace = True)    \n",
    "                       "
   ]
  },
  {
   "cell_type": "code",
   "execution_count": 64,
   "id": "2e301f62-4c10-4c08-845c-a0f89afe4c1c",
   "metadata": {},
   "outputs": [
    {
     "data": {
      "text/html": [
       "<div>\n",
       "<style scoped>\n",
       "    .dataframe tbody tr th:only-of-type {\n",
       "        vertical-align: middle;\n",
       "    }\n",
       "\n",
       "    .dataframe tbody tr th {\n",
       "        vertical-align: top;\n",
       "    }\n",
       "\n",
       "    .dataframe thead th {\n",
       "        text-align: right;\n",
       "    }\n",
       "</style>\n",
       "<table border=\"1\" class=\"dataframe\">\n",
       "  <thead>\n",
       "    <tr style=\"text-align: right;\">\n",
       "      <th></th>\n",
       "      <th>index</th>\n",
       "      <th>Year</th>\n",
       "      <th>Month</th>\n",
       "      <th>Customer_Age</th>\n",
       "      <th>Customer Gender</th>\n",
       "      <th>Country</th>\n",
       "      <th>State</th>\n",
       "      <th>Product_Category</th>\n",
       "      <th>Sub_Category</th>\n",
       "      <th>Quantity</th>\n",
       "      <th>Unit_Cost</th>\n",
       "      <th>Unit_Price</th>\n",
       "      <th>Cost</th>\n",
       "      <th>Revenue</th>\n",
       "    </tr>\n",
       "  </thead>\n",
       "  <tbody>\n",
       "    <tr>\n",
       "      <th>0</th>\n",
       "      <td>0</td>\n",
       "      <td>2016.0</td>\n",
       "      <td>February</td>\n",
       "      <td>29.0</td>\n",
       "      <td>F</td>\n",
       "      <td>United States</td>\n",
       "      <td>Washington</td>\n",
       "      <td>Accessories</td>\n",
       "      <td>Tires and Tubes</td>\n",
       "      <td>1.0</td>\n",
       "      <td>80.00</td>\n",
       "      <td>109.000000</td>\n",
       "      <td>80.0</td>\n",
       "      <td>109.0</td>\n",
       "    </tr>\n",
       "    <tr>\n",
       "      <th>1</th>\n",
       "      <td>1</td>\n",
       "      <td>2016.0</td>\n",
       "      <td>February</td>\n",
       "      <td>29.0</td>\n",
       "      <td>F</td>\n",
       "      <td>United States</td>\n",
       "      <td>Washington</td>\n",
       "      <td>Clothing</td>\n",
       "      <td>Gloves</td>\n",
       "      <td>2.0</td>\n",
       "      <td>24.50</td>\n",
       "      <td>28.500000</td>\n",
       "      <td>49.0</td>\n",
       "      <td>57.0</td>\n",
       "    </tr>\n",
       "    <tr>\n",
       "      <th>2</th>\n",
       "      <td>2</td>\n",
       "      <td>2016.0</td>\n",
       "      <td>February</td>\n",
       "      <td>29.0</td>\n",
       "      <td>F</td>\n",
       "      <td>United States</td>\n",
       "      <td>Washington</td>\n",
       "      <td>Accessories</td>\n",
       "      <td>Tires and Tubes</td>\n",
       "      <td>3.0</td>\n",
       "      <td>3.67</td>\n",
       "      <td>5.000000</td>\n",
       "      <td>11.0</td>\n",
       "      <td>15.0</td>\n",
       "    </tr>\n",
       "    <tr>\n",
       "      <th>3</th>\n",
       "      <td>3</td>\n",
       "      <td>2016.0</td>\n",
       "      <td>March</td>\n",
       "      <td>29.0</td>\n",
       "      <td>F</td>\n",
       "      <td>United States</td>\n",
       "      <td>Washington</td>\n",
       "      <td>Accessories</td>\n",
       "      <td>Tires and Tubes</td>\n",
       "      <td>2.0</td>\n",
       "      <td>87.50</td>\n",
       "      <td>116.500000</td>\n",
       "      <td>175.0</td>\n",
       "      <td>233.0</td>\n",
       "    </tr>\n",
       "    <tr>\n",
       "      <th>4</th>\n",
       "      <td>4</td>\n",
       "      <td>2016.0</td>\n",
       "      <td>March</td>\n",
       "      <td>29.0</td>\n",
       "      <td>F</td>\n",
       "      <td>United States</td>\n",
       "      <td>Washington</td>\n",
       "      <td>Accessories</td>\n",
       "      <td>Tires and Tubes</td>\n",
       "      <td>3.0</td>\n",
       "      <td>35.00</td>\n",
       "      <td>41.666667</td>\n",
       "      <td>105.0</td>\n",
       "      <td>125.0</td>\n",
       "    </tr>\n",
       "  </tbody>\n",
       "</table>\n",
       "</div>"
      ],
      "text/plain": [
       "   index    Year     Month  Customer_Age Customer Gender        Country  \\\n",
       "0      0  2016.0  February          29.0               F  United States   \n",
       "1      1  2016.0  February          29.0               F  United States   \n",
       "2      2  2016.0  February          29.0               F  United States   \n",
       "3      3  2016.0     March          29.0               F  United States   \n",
       "4      4  2016.0     March          29.0               F  United States   \n",
       "\n",
       "        State Product_Category     Sub_Category  Quantity  Unit_Cost  \\\n",
       "0  Washington      Accessories  Tires and Tubes       1.0      80.00   \n",
       "1  Washington         Clothing           Gloves       2.0      24.50   \n",
       "2  Washington      Accessories  Tires and Tubes       3.0       3.67   \n",
       "3  Washington      Accessories  Tires and Tubes       2.0      87.50   \n",
       "4  Washington      Accessories  Tires and Tubes       3.0      35.00   \n",
       "\n",
       "   Unit_Price   Cost  Revenue  \n",
       "0  109.000000   80.0    109.0  \n",
       "1   28.500000   49.0     57.0  \n",
       "2    5.000000   11.0     15.0  \n",
       "3  116.500000  175.0    233.0  \n",
       "4   41.666667  105.0    125.0  "
      ]
     },
     "execution_count": 64,
     "metadata": {},
     "output_type": "execute_result"
    }
   ],
   "source": [
    "data.head(5)"
   ]
  },
  {
   "cell_type": "code",
   "execution_count": 65,
   "id": "6df2a678-00f4-474e-a6dd-d7a0d13d131d",
   "metadata": {},
   "outputs": [
    {
     "data": {
      "text/html": [
       "<div>\n",
       "<style scoped>\n",
       "    .dataframe tbody tr th:only-of-type {\n",
       "        vertical-align: middle;\n",
       "    }\n",
       "\n",
       "    .dataframe tbody tr th {\n",
       "        vertical-align: top;\n",
       "    }\n",
       "\n",
       "    .dataframe thead th {\n",
       "        text-align: right;\n",
       "    }\n",
       "</style>\n",
       "<table border=\"1\" class=\"dataframe\">\n",
       "  <thead>\n",
       "    <tr style=\"text-align: right;\">\n",
       "      <th></th>\n",
       "      <th>index</th>\n",
       "      <th>Year</th>\n",
       "      <th>Month</th>\n",
       "      <th>Age</th>\n",
       "      <th>Gender</th>\n",
       "      <th>Country</th>\n",
       "      <th>State</th>\n",
       "      <th>Product_Category</th>\n",
       "      <th>Sub_Category</th>\n",
       "      <th>Quantity</th>\n",
       "      <th>Unit_Cost</th>\n",
       "      <th>Unit_Price</th>\n",
       "      <th>Cost</th>\n",
       "      <th>Revenue</th>\n",
       "    </tr>\n",
       "  </thead>\n",
       "  <tbody>\n",
       "    <tr>\n",
       "      <th>0</th>\n",
       "      <td>0</td>\n",
       "      <td>2016.0</td>\n",
       "      <td>February</td>\n",
       "      <td>29.0</td>\n",
       "      <td>F</td>\n",
       "      <td>United States</td>\n",
       "      <td>Washington</td>\n",
       "      <td>Accessories</td>\n",
       "      <td>Tires and Tubes</td>\n",
       "      <td>1.0</td>\n",
       "      <td>80.00</td>\n",
       "      <td>109.000000</td>\n",
       "      <td>80.0</td>\n",
       "      <td>109.0</td>\n",
       "    </tr>\n",
       "    <tr>\n",
       "      <th>1</th>\n",
       "      <td>1</td>\n",
       "      <td>2016.0</td>\n",
       "      <td>February</td>\n",
       "      <td>29.0</td>\n",
       "      <td>F</td>\n",
       "      <td>United States</td>\n",
       "      <td>Washington</td>\n",
       "      <td>Clothing</td>\n",
       "      <td>Gloves</td>\n",
       "      <td>2.0</td>\n",
       "      <td>24.50</td>\n",
       "      <td>28.500000</td>\n",
       "      <td>49.0</td>\n",
       "      <td>57.0</td>\n",
       "    </tr>\n",
       "    <tr>\n",
       "      <th>2</th>\n",
       "      <td>2</td>\n",
       "      <td>2016.0</td>\n",
       "      <td>February</td>\n",
       "      <td>29.0</td>\n",
       "      <td>F</td>\n",
       "      <td>United States</td>\n",
       "      <td>Washington</td>\n",
       "      <td>Accessories</td>\n",
       "      <td>Tires and Tubes</td>\n",
       "      <td>3.0</td>\n",
       "      <td>3.67</td>\n",
       "      <td>5.000000</td>\n",
       "      <td>11.0</td>\n",
       "      <td>15.0</td>\n",
       "    </tr>\n",
       "    <tr>\n",
       "      <th>3</th>\n",
       "      <td>3</td>\n",
       "      <td>2016.0</td>\n",
       "      <td>March</td>\n",
       "      <td>29.0</td>\n",
       "      <td>F</td>\n",
       "      <td>United States</td>\n",
       "      <td>Washington</td>\n",
       "      <td>Accessories</td>\n",
       "      <td>Tires and Tubes</td>\n",
       "      <td>2.0</td>\n",
       "      <td>87.50</td>\n",
       "      <td>116.500000</td>\n",
       "      <td>175.0</td>\n",
       "      <td>233.0</td>\n",
       "    </tr>\n",
       "    <tr>\n",
       "      <th>4</th>\n",
       "      <td>4</td>\n",
       "      <td>2016.0</td>\n",
       "      <td>March</td>\n",
       "      <td>29.0</td>\n",
       "      <td>F</td>\n",
       "      <td>United States</td>\n",
       "      <td>Washington</td>\n",
       "      <td>Accessories</td>\n",
       "      <td>Tires and Tubes</td>\n",
       "      <td>3.0</td>\n",
       "      <td>35.00</td>\n",
       "      <td>41.666667</td>\n",
       "      <td>105.0</td>\n",
       "      <td>125.0</td>\n",
       "    </tr>\n",
       "  </tbody>\n",
       "</table>\n",
       "</div>"
      ],
      "text/plain": [
       "   index    Year     Month   Age Gender        Country       State  \\\n",
       "0      0  2016.0  February  29.0      F  United States  Washington   \n",
       "1      1  2016.0  February  29.0      F  United States  Washington   \n",
       "2      2  2016.0  February  29.0      F  United States  Washington   \n",
       "3      3  2016.0     March  29.0      F  United States  Washington   \n",
       "4      4  2016.0     March  29.0      F  United States  Washington   \n",
       "\n",
       "  Product_Category     Sub_Category  Quantity  Unit_Cost  Unit_Price   Cost  \\\n",
       "0      Accessories  Tires and Tubes       1.0      80.00  109.000000   80.0   \n",
       "1         Clothing           Gloves       2.0      24.50   28.500000   49.0   \n",
       "2      Accessories  Tires and Tubes       3.0       3.67    5.000000   11.0   \n",
       "3      Accessories  Tires and Tubes       2.0      87.50  116.500000  175.0   \n",
       "4      Accessories  Tires and Tubes       3.0      35.00   41.666667  105.0   \n",
       "\n",
       "   Revenue  \n",
       "0    109.0  \n",
       "1     57.0  \n",
       "2     15.0  \n",
       "3    233.0  \n",
       "4    125.0  "
      ]
     },
     "execution_count": 65,
     "metadata": {},
     "output_type": "execute_result"
    }
   ],
   "source": [
    "data.rename(columns = {'Customer_Age':'Age', 'Customer Gender':'Gender'}, inplace = True)\n",
    "data.head(5)"
   ]
  },
  {
   "cell_type": "markdown",
   "id": "bf3221ed-81d9-4bbd-8071-5730ecfd47f1",
   "metadata": {},
   "source": [
    "#####"
   ]
  },
  {
   "cell_type": "markdown",
   "id": "60513bd9-df0b-48d2-b285-228ba83adb1d",
   "metadata": {},
   "source": [
    "##### Since my project is based on looking at patterns in youth spending, I will remove data about anybody over 25"
   ]
  },
  {
   "cell_type": "code",
   "execution_count": 67,
   "id": "22e2ec1c-91a9-4a20-963b-ea282cbf215c",
   "metadata": {},
   "outputs": [
    {
     "data": {
      "text/html": [
       "<div>\n",
       "<style scoped>\n",
       "    .dataframe tbody tr th:only-of-type {\n",
       "        vertical-align: middle;\n",
       "    }\n",
       "\n",
       "    .dataframe tbody tr th {\n",
       "        vertical-align: top;\n",
       "    }\n",
       "\n",
       "    .dataframe thead th {\n",
       "        text-align: right;\n",
       "    }\n",
       "</style>\n",
       "<table border=\"1\" class=\"dataframe\">\n",
       "  <thead>\n",
       "    <tr style=\"text-align: right;\">\n",
       "      <th></th>\n",
       "      <th>index</th>\n",
       "      <th>Year</th>\n",
       "      <th>Month</th>\n",
       "      <th>Age</th>\n",
       "      <th>Gender</th>\n",
       "      <th>Country</th>\n",
       "      <th>State</th>\n",
       "      <th>Product_Category</th>\n",
       "      <th>Sub_Category</th>\n",
       "      <th>Quantity</th>\n",
       "      <th>Unit_Cost</th>\n",
       "      <th>Unit_Price</th>\n",
       "      <th>Cost</th>\n",
       "      <th>Revenue</th>\n",
       "    </tr>\n",
       "  </thead>\n",
       "  <tbody>\n",
       "    <tr>\n",
       "      <th>47</th>\n",
       "      <td>47</td>\n",
       "      <td>2015.0</td>\n",
       "      <td>July</td>\n",
       "      <td>18.0</td>\n",
       "      <td>F</td>\n",
       "      <td>United States</td>\n",
       "      <td>California</td>\n",
       "      <td>Accessories</td>\n",
       "      <td>Bike Stands</td>\n",
       "      <td>1.0</td>\n",
       "      <td>636.0</td>\n",
       "      <td>677.000000</td>\n",
       "      <td>636.0</td>\n",
       "      <td>677.0</td>\n",
       "    </tr>\n",
       "    <tr>\n",
       "      <th>48</th>\n",
       "      <td>48</td>\n",
       "      <td>2015.0</td>\n",
       "      <td>October</td>\n",
       "      <td>18.0</td>\n",
       "      <td>F</td>\n",
       "      <td>United States</td>\n",
       "      <td>California</td>\n",
       "      <td>Accessories</td>\n",
       "      <td>Bike Stands</td>\n",
       "      <td>3.0</td>\n",
       "      <td>159.0</td>\n",
       "      <td>170.666667</td>\n",
       "      <td>477.0</td>\n",
       "      <td>512.0</td>\n",
       "    </tr>\n",
       "    <tr>\n",
       "      <th>49</th>\n",
       "      <td>49</td>\n",
       "      <td>2016.0</td>\n",
       "      <td>June</td>\n",
       "      <td>18.0</td>\n",
       "      <td>M</td>\n",
       "      <td>United States</td>\n",
       "      <td>California</td>\n",
       "      <td>Bikes</td>\n",
       "      <td>Mountain Bikes</td>\n",
       "      <td>1.0</td>\n",
       "      <td>769.0</td>\n",
       "      <td>875.000000</td>\n",
       "      <td>769.0</td>\n",
       "      <td>875.0</td>\n",
       "    </tr>\n",
       "    <tr>\n",
       "      <th>50</th>\n",
       "      <td>50</td>\n",
       "      <td>2015.0</td>\n",
       "      <td>August</td>\n",
       "      <td>18.0</td>\n",
       "      <td>M</td>\n",
       "      <td>United States</td>\n",
       "      <td>California</td>\n",
       "      <td>Bikes</td>\n",
       "      <td>Mountain Bikes</td>\n",
       "      <td>1.0</td>\n",
       "      <td>2295.0</td>\n",
       "      <td>2242.000000</td>\n",
       "      <td>2295.0</td>\n",
       "      <td>2242.0</td>\n",
       "    </tr>\n",
       "    <tr>\n",
       "      <th>51</th>\n",
       "      <td>51</td>\n",
       "      <td>2015.0</td>\n",
       "      <td>September</td>\n",
       "      <td>18.0</td>\n",
       "      <td>M</td>\n",
       "      <td>United States</td>\n",
       "      <td>California</td>\n",
       "      <td>Bikes</td>\n",
       "      <td>Mountain Bikes</td>\n",
       "      <td>1.0</td>\n",
       "      <td>769.0</td>\n",
       "      <td>776.000000</td>\n",
       "      <td>769.0</td>\n",
       "      <td>776.0</td>\n",
       "    </tr>\n",
       "    <tr>\n",
       "      <th>...</th>\n",
       "      <td>...</td>\n",
       "      <td>...</td>\n",
       "      <td>...</td>\n",
       "      <td>...</td>\n",
       "      <td>...</td>\n",
       "      <td>...</td>\n",
       "      <td>...</td>\n",
       "      <td>...</td>\n",
       "      <td>...</td>\n",
       "      <td>...</td>\n",
       "      <td>...</td>\n",
       "      <td>...</td>\n",
       "      <td>...</td>\n",
       "      <td>...</td>\n",
       "    </tr>\n",
       "    <tr>\n",
       "      <th>34785</th>\n",
       "      <td>34785</td>\n",
       "      <td>2015.0</td>\n",
       "      <td>December</td>\n",
       "      <td>22.0</td>\n",
       "      <td>F</td>\n",
       "      <td>Germany</td>\n",
       "      <td>Nordrhein-Westfalen</td>\n",
       "      <td>Accessories</td>\n",
       "      <td>Tires and Tubes</td>\n",
       "      <td>3.0</td>\n",
       "      <td>40.0</td>\n",
       "      <td>50.333333</td>\n",
       "      <td>120.0</td>\n",
       "      <td>151.0</td>\n",
       "    </tr>\n",
       "    <tr>\n",
       "      <th>34786</th>\n",
       "      <td>34786</td>\n",
       "      <td>2016.0</td>\n",
       "      <td>May</td>\n",
       "      <td>22.0</td>\n",
       "      <td>M</td>\n",
       "      <td>United Kingdom</td>\n",
       "      <td>England</td>\n",
       "      <td>Bikes</td>\n",
       "      <td>Touring Bikes</td>\n",
       "      <td>2.0</td>\n",
       "      <td>1192.0</td>\n",
       "      <td>1287.500000</td>\n",
       "      <td>2384.0</td>\n",
       "      <td>2575.0</td>\n",
       "    </tr>\n",
       "    <tr>\n",
       "      <th>34787</th>\n",
       "      <td>34787</td>\n",
       "      <td>2015.0</td>\n",
       "      <td>July</td>\n",
       "      <td>22.0</td>\n",
       "      <td>M</td>\n",
       "      <td>United Kingdom</td>\n",
       "      <td>England</td>\n",
       "      <td>Bikes</td>\n",
       "      <td>Touring Bikes</td>\n",
       "      <td>1.0</td>\n",
       "      <td>742.0</td>\n",
       "      <td>608.000000</td>\n",
       "      <td>742.0</td>\n",
       "      <td>608.0</td>\n",
       "    </tr>\n",
       "    <tr>\n",
       "      <th>34788</th>\n",
       "      <td>34788</td>\n",
       "      <td>2015.0</td>\n",
       "      <td>October</td>\n",
       "      <td>22.0</td>\n",
       "      <td>M</td>\n",
       "      <td>United Kingdom</td>\n",
       "      <td>England</td>\n",
       "      <td>Bikes</td>\n",
       "      <td>Touring Bikes</td>\n",
       "      <td>2.0</td>\n",
       "      <td>607.5</td>\n",
       "      <td>559.000000</td>\n",
       "      <td>1215.0</td>\n",
       "      <td>1118.0</td>\n",
       "    </tr>\n",
       "    <tr>\n",
       "      <th>34789</th>\n",
       "      <td>34789</td>\n",
       "      <td>2015.0</td>\n",
       "      <td>October</td>\n",
       "      <td>22.0</td>\n",
       "      <td>M</td>\n",
       "      <td>United Kingdom</td>\n",
       "      <td>England</td>\n",
       "      <td>Bikes</td>\n",
       "      <td>Touring Bikes</td>\n",
       "      <td>2.0</td>\n",
       "      <td>371.0</td>\n",
       "      <td>361.000000</td>\n",
       "      <td>742.0</td>\n",
       "      <td>722.0</td>\n",
       "    </tr>\n",
       "  </tbody>\n",
       "</table>\n",
       "<p>6076 rows × 14 columns</p>\n",
       "</div>"
      ],
      "text/plain": [
       "       index    Year      Month   Age Gender         Country  \\\n",
       "47        47  2015.0       July  18.0      F   United States   \n",
       "48        48  2015.0    October  18.0      F   United States   \n",
       "49        49  2016.0       June  18.0      M   United States   \n",
       "50        50  2015.0     August  18.0      M   United States   \n",
       "51        51  2015.0  September  18.0      M   United States   \n",
       "...      ...     ...        ...   ...    ...             ...   \n",
       "34785  34785  2015.0   December  22.0      F         Germany   \n",
       "34786  34786  2016.0        May  22.0      M  United Kingdom   \n",
       "34787  34787  2015.0       July  22.0      M  United Kingdom   \n",
       "34788  34788  2015.0    October  22.0      M  United Kingdom   \n",
       "34789  34789  2015.0    October  22.0      M  United Kingdom   \n",
       "\n",
       "                     State Product_Category     Sub_Category  Quantity  \\\n",
       "47              California      Accessories      Bike Stands       1.0   \n",
       "48              California      Accessories      Bike Stands       3.0   \n",
       "49              California            Bikes   Mountain Bikes       1.0   \n",
       "50              California            Bikes   Mountain Bikes       1.0   \n",
       "51              California            Bikes   Mountain Bikes       1.0   \n",
       "...                    ...              ...              ...       ...   \n",
       "34785  Nordrhein-Westfalen      Accessories  Tires and Tubes       3.0   \n",
       "34786              England            Bikes    Touring Bikes       2.0   \n",
       "34787              England            Bikes    Touring Bikes       1.0   \n",
       "34788              England            Bikes    Touring Bikes       2.0   \n",
       "34789              England            Bikes    Touring Bikes       2.0   \n",
       "\n",
       "       Unit_Cost   Unit_Price    Cost  Revenue  \n",
       "47         636.0   677.000000   636.0    677.0  \n",
       "48         159.0   170.666667   477.0    512.0  \n",
       "49         769.0   875.000000   769.0    875.0  \n",
       "50        2295.0  2242.000000  2295.0   2242.0  \n",
       "51         769.0   776.000000   769.0    776.0  \n",
       "...          ...          ...     ...      ...  \n",
       "34785       40.0    50.333333   120.0    151.0  \n",
       "34786     1192.0  1287.500000  2384.0   2575.0  \n",
       "34787      742.0   608.000000   742.0    608.0  \n",
       "34788      607.5   559.000000  1215.0   1118.0  \n",
       "34789      371.0   361.000000   742.0    722.0  \n",
       "\n",
       "[6076 rows x 14 columns]"
      ]
     },
     "execution_count": 67,
     "metadata": {},
     "output_type": "execute_result"
    }
   ],
   "source": [
    "data = data[data['Age'] <= 25]\n",
    "data"
   ]
  },
  {
   "cell_type": "code",
   "execution_count": 69,
   "id": "37ebd0d6-316f-41d9-92ac-984203c22c97",
   "metadata": {},
   "outputs": [
    {
     "data": {
      "text/plain": [
       "(6076, 14)"
      ]
     },
     "execution_count": 69,
     "metadata": {},
     "output_type": "execute_result"
    }
   ],
   "source": [
    "data.shape"
   ]
  },
  {
   "cell_type": "code",
   "execution_count": 73,
   "id": "47525943-7ac9-42f9-b5b5-a2b10f44b6ab",
   "metadata": {},
   "outputs": [],
   "source": [
    "data.drop(columns = ['index'], inplace = True)"
   ]
  },
  {
   "cell_type": "markdown",
   "id": "3bdba67a-bd50-40a4-b0a0-8bd42948eb98",
   "metadata": {},
   "source": [
    "##### taking care of null values"
   ]
  },
  {
   "cell_type": "code",
   "execution_count": 74,
   "id": "8cb1bda6-e7d5-4c54-a63e-8f4b89153e8a",
   "metadata": {},
   "outputs": [
    {
     "data": {
      "text/plain": [
       "Year                0\n",
       "Month               0\n",
       "Age                 0\n",
       "Gender              0\n",
       "Country             0\n",
       "State               0\n",
       "Product_Category    0\n",
       "Sub_Category        0\n",
       "Quantity            0\n",
       "Unit_Cost           0\n",
       "Unit_Price          0\n",
       "Cost                0\n",
       "Revenue             0\n",
       "dtype: int64"
      ]
     },
     "execution_count": 74,
     "metadata": {},
     "output_type": "execute_result"
    }
   ],
   "source": [
    "data.isna().sum()"
   ]
  },
  {
   "cell_type": "markdown",
   "id": "1f3dd7d4-6506-424c-bb86-f8e05a230375",
   "metadata": {},
   "source": [
    "##### *no null values, proceed to next step*"
   ]
  },
  {
   "cell_type": "markdown",
   "id": "43c36607-6765-49f7-8842-7e38d9355081",
   "metadata": {},
   "source": [
    "#####"
   ]
  },
  {
   "cell_type": "markdown",
   "id": "d71397d8-4e8c-4586-b263-4288f6de6293",
   "metadata": {},
   "source": [
    "##### creating my X (independent) and y (dependent) variables"
   ]
  },
  {
   "cell_type": "code",
   "execution_count": 75,
   "id": "51c3aeb7-9501-403a-8c0f-9f16cb820173",
   "metadata": {},
   "outputs": [],
   "source": [
    "X = data.drop(columns = 'Product_Category')\n",
    "y = data['Product_Category']"
   ]
  },
  {
   "cell_type": "markdown",
   "id": "69063b43-9eb2-4bf6-8b3a-b832b44f4dca",
   "metadata": {},
   "source": [
    "#####"
   ]
  },
  {
   "cell_type": "markdown",
   "id": "151b60d9-d01b-4009-b34d-58a31ab3fbf3",
   "metadata": {},
   "source": [
    "##### time to transform the X columns because they are categorical"
   ]
  },
  {
   "cell_type": "code",
   "execution_count": 76,
   "id": "de7cb2a5-a325-4cae-aad5-128207a7f91e",
   "metadata": {},
   "outputs": [],
   "source": [
    "from sklearn import preprocessing\n",
    "label_encoder = preprocessing.LabelEncoder()"
   ]
  },
  {
   "cell_type": "markdown",
   "id": "5ca9e2f0-3889-4209-a368-fed455920195",
   "metadata": {},
   "source": [
    "##### creating new variables for the encoded X columns"
   ]
  },
  {
   "cell_type": "code",
   "execution_count": 77,
   "id": "207fc6a4-1993-4269-882b-93a7793adf47",
   "metadata": {},
   "outputs": [],
   "source": [
    "X['Year'] = label_encoder.fit_transform(X['Year'])\n",
    "X['Month'] = label_encoder.fit_transform(X['Month'])\n",
    "X['Gender'] = label_encoder.fit_transform(X['Gender'])\n",
    "X['Country'] = label_encoder.fit_transform(X['Country'])\n",
    "X['State'] = label_encoder.fit_transform(X['State'])\n",
    "X['Sub_Category'] = label_encoder.fit_transform(X['Sub_Category'])"
   ]
  },
  {
   "cell_type": "markdown",
   "id": "4346fcd2-e8ab-4937-85b2-68977b8a419e",
   "metadata": {},
   "source": [
    "#####"
   ]
  },
  {
   "cell_type": "markdown",
   "id": "9bd6a063-6856-4520-9a51-fc1628e53eef",
   "metadata": {},
   "source": [
    "##### look at the encoded dataset"
   ]
  },
  {
   "cell_type": "code",
   "execution_count": 78,
   "id": "a7052b5c-1a90-4e3a-b845-8d3e4bcd8bcf",
   "metadata": {},
   "outputs": [
    {
     "data": {
      "text/html": [
       "<div>\n",
       "<style scoped>\n",
       "    .dataframe tbody tr th:only-of-type {\n",
       "        vertical-align: middle;\n",
       "    }\n",
       "\n",
       "    .dataframe tbody tr th {\n",
       "        vertical-align: top;\n",
       "    }\n",
       "\n",
       "    .dataframe thead th {\n",
       "        text-align: right;\n",
       "    }\n",
       "</style>\n",
       "<table border=\"1\" class=\"dataframe\">\n",
       "  <thead>\n",
       "    <tr style=\"text-align: right;\">\n",
       "      <th></th>\n",
       "      <th>Year</th>\n",
       "      <th>Month</th>\n",
       "      <th>Age</th>\n",
       "      <th>Gender</th>\n",
       "      <th>Country</th>\n",
       "      <th>State</th>\n",
       "      <th>Sub_Category</th>\n",
       "      <th>Quantity</th>\n",
       "      <th>Unit_Cost</th>\n",
       "      <th>Unit_Price</th>\n",
       "      <th>Cost</th>\n",
       "      <th>Revenue</th>\n",
       "    </tr>\n",
       "  </thead>\n",
       "  <tbody>\n",
       "    <tr>\n",
       "      <th>47</th>\n",
       "      <td>0</td>\n",
       "      <td>5</td>\n",
       "      <td>18.0</td>\n",
       "      <td>0</td>\n",
       "      <td>3</td>\n",
       "      <td>3</td>\n",
       "      <td>1</td>\n",
       "      <td>1.0</td>\n",
       "      <td>636.0</td>\n",
       "      <td>677.000000</td>\n",
       "      <td>636.0</td>\n",
       "      <td>677.0</td>\n",
       "    </tr>\n",
       "    <tr>\n",
       "      <th>48</th>\n",
       "      <td>0</td>\n",
       "      <td>10</td>\n",
       "      <td>18.0</td>\n",
       "      <td>0</td>\n",
       "      <td>3</td>\n",
       "      <td>3</td>\n",
       "      <td>1</td>\n",
       "      <td>3.0</td>\n",
       "      <td>159.0</td>\n",
       "      <td>170.666667</td>\n",
       "      <td>477.0</td>\n",
       "      <td>512.0</td>\n",
       "    </tr>\n",
       "    <tr>\n",
       "      <th>49</th>\n",
       "      <td>1</td>\n",
       "      <td>6</td>\n",
       "      <td>18.0</td>\n",
       "      <td>1</td>\n",
       "      <td>3</td>\n",
       "      <td>3</td>\n",
       "      <td>10</td>\n",
       "      <td>1.0</td>\n",
       "      <td>769.0</td>\n",
       "      <td>875.000000</td>\n",
       "      <td>769.0</td>\n",
       "      <td>875.0</td>\n",
       "    </tr>\n",
       "    <tr>\n",
       "      <th>50</th>\n",
       "      <td>0</td>\n",
       "      <td>1</td>\n",
       "      <td>18.0</td>\n",
       "      <td>1</td>\n",
       "      <td>3</td>\n",
       "      <td>3</td>\n",
       "      <td>10</td>\n",
       "      <td>1.0</td>\n",
       "      <td>2295.0</td>\n",
       "      <td>2242.000000</td>\n",
       "      <td>2295.0</td>\n",
       "      <td>2242.0</td>\n",
       "    </tr>\n",
       "    <tr>\n",
       "      <th>51</th>\n",
       "      <td>0</td>\n",
       "      <td>11</td>\n",
       "      <td>18.0</td>\n",
       "      <td>1</td>\n",
       "      <td>3</td>\n",
       "      <td>3</td>\n",
       "      <td>10</td>\n",
       "      <td>1.0</td>\n",
       "      <td>769.0</td>\n",
       "      <td>776.000000</td>\n",
       "      <td>769.0</td>\n",
       "      <td>776.0</td>\n",
       "    </tr>\n",
       "    <tr>\n",
       "      <th>...</th>\n",
       "      <td>...</td>\n",
       "      <td>...</td>\n",
       "      <td>...</td>\n",
       "      <td>...</td>\n",
       "      <td>...</td>\n",
       "      <td>...</td>\n",
       "      <td>...</td>\n",
       "      <td>...</td>\n",
       "      <td>...</td>\n",
       "      <td>...</td>\n",
       "      <td>...</td>\n",
       "      <td>...</td>\n",
       "    </tr>\n",
       "    <tr>\n",
       "      <th>34785</th>\n",
       "      <td>0</td>\n",
       "      <td>2</td>\n",
       "      <td>22.0</td>\n",
       "      <td>0</td>\n",
       "      <td>1</td>\n",
       "      <td>18</td>\n",
       "      <td>14</td>\n",
       "      <td>3.0</td>\n",
       "      <td>40.0</td>\n",
       "      <td>50.333333</td>\n",
       "      <td>120.0</td>\n",
       "      <td>151.0</td>\n",
       "    </tr>\n",
       "    <tr>\n",
       "      <th>34786</th>\n",
       "      <td>1</td>\n",
       "      <td>8</td>\n",
       "      <td>22.0</td>\n",
       "      <td>1</td>\n",
       "      <td>2</td>\n",
       "      <td>5</td>\n",
       "      <td>15</td>\n",
       "      <td>2.0</td>\n",
       "      <td>1192.0</td>\n",
       "      <td>1287.500000</td>\n",
       "      <td>2384.0</td>\n",
       "      <td>2575.0</td>\n",
       "    </tr>\n",
       "    <tr>\n",
       "      <th>34787</th>\n",
       "      <td>0</td>\n",
       "      <td>5</td>\n",
       "      <td>22.0</td>\n",
       "      <td>1</td>\n",
       "      <td>2</td>\n",
       "      <td>5</td>\n",
       "      <td>15</td>\n",
       "      <td>1.0</td>\n",
       "      <td>742.0</td>\n",
       "      <td>608.000000</td>\n",
       "      <td>742.0</td>\n",
       "      <td>608.0</td>\n",
       "    </tr>\n",
       "    <tr>\n",
       "      <th>34788</th>\n",
       "      <td>0</td>\n",
       "      <td>10</td>\n",
       "      <td>22.0</td>\n",
       "      <td>1</td>\n",
       "      <td>2</td>\n",
       "      <td>5</td>\n",
       "      <td>15</td>\n",
       "      <td>2.0</td>\n",
       "      <td>607.5</td>\n",
       "      <td>559.000000</td>\n",
       "      <td>1215.0</td>\n",
       "      <td>1118.0</td>\n",
       "    </tr>\n",
       "    <tr>\n",
       "      <th>34789</th>\n",
       "      <td>0</td>\n",
       "      <td>10</td>\n",
       "      <td>22.0</td>\n",
       "      <td>1</td>\n",
       "      <td>2</td>\n",
       "      <td>5</td>\n",
       "      <td>15</td>\n",
       "      <td>2.0</td>\n",
       "      <td>371.0</td>\n",
       "      <td>361.000000</td>\n",
       "      <td>742.0</td>\n",
       "      <td>722.0</td>\n",
       "    </tr>\n",
       "  </tbody>\n",
       "</table>\n",
       "<p>6076 rows × 12 columns</p>\n",
       "</div>"
      ],
      "text/plain": [
       "       Year  Month   Age  Gender  Country  State  Sub_Category  Quantity  \\\n",
       "47        0      5  18.0       0        3      3             1       1.0   \n",
       "48        0     10  18.0       0        3      3             1       3.0   \n",
       "49        1      6  18.0       1        3      3            10       1.0   \n",
       "50        0      1  18.0       1        3      3            10       1.0   \n",
       "51        0     11  18.0       1        3      3            10       1.0   \n",
       "...     ...    ...   ...     ...      ...    ...           ...       ...   \n",
       "34785     0      2  22.0       0        1     18            14       3.0   \n",
       "34786     1      8  22.0       1        2      5            15       2.0   \n",
       "34787     0      5  22.0       1        2      5            15       1.0   \n",
       "34788     0     10  22.0       1        2      5            15       2.0   \n",
       "34789     0     10  22.0       1        2      5            15       2.0   \n",
       "\n",
       "       Unit_Cost   Unit_Price    Cost  Revenue  \n",
       "47         636.0   677.000000   636.0    677.0  \n",
       "48         159.0   170.666667   477.0    512.0  \n",
       "49         769.0   875.000000   769.0    875.0  \n",
       "50        2295.0  2242.000000  2295.0   2242.0  \n",
       "51         769.0   776.000000   769.0    776.0  \n",
       "...          ...          ...     ...      ...  \n",
       "34785       40.0    50.333333   120.0    151.0  \n",
       "34786     1192.0  1287.500000  2384.0   2575.0  \n",
       "34787      742.0   608.000000   742.0    608.0  \n",
       "34788      607.5   559.000000  1215.0   1118.0  \n",
       "34789      371.0   361.000000   742.0    722.0  \n",
       "\n",
       "[6076 rows x 12 columns]"
      ]
     },
     "execution_count": 78,
     "metadata": {},
     "output_type": "execute_result"
    }
   ],
   "source": [
    "X"
   ]
  },
  {
   "cell_type": "markdown",
   "id": "c3c8de0e-ead0-455a-8437-60b6341528ac",
   "metadata": {},
   "source": [
    "##### time to split the data into training and testing sets"
   ]
  },
  {
   "cell_type": "code",
   "execution_count": 80,
   "id": "440719db-2148-466a-80f9-1ab8665db900",
   "metadata": {},
   "outputs": [],
   "source": [
    "from sklearn import model_selection\n",
    "trainer = model_selection.train_test_split\n",
    "X_train, X_test, y_train, y_test = trainer(X, y, test_size = 0.3, random_state = 66)"
   ]
  },
  {
   "cell_type": "markdown",
   "id": "9b7e4f97-4f53-4e3b-8ccc-e115e626b810",
   "metadata": {},
   "source": [
    "##### creating the decision tree model"
   ]
  },
  {
   "cell_type": "code",
   "execution_count": 81,
   "id": "d57eef14-a1be-4a2e-8bbf-0fba37522255",
   "metadata": {},
   "outputs": [],
   "source": [
    "from sklearn import tree\n",
    "model = tree.DecisionTreeClassifier()"
   ]
  },
  {
   "cell_type": "markdown",
   "id": "51afef66-19db-4ea5-9c2f-b27b1020a4b2",
   "metadata": {},
   "source": [
    "##### training the data and finding the R-Squared"
   ]
  },
  {
   "cell_type": "code",
   "execution_count": 82,
   "id": "5c59a796-ec44-4bf3-b6bf-c5fd1d8757e3",
   "metadata": {},
   "outputs": [
    {
     "data": {
      "text/html": [
       "<style>#sk-container-id-5 {color: black;background-color: white;}#sk-container-id-5 pre{padding: 0;}#sk-container-id-5 div.sk-toggleable {background-color: white;}#sk-container-id-5 label.sk-toggleable__label {cursor: pointer;display: block;width: 100%;margin-bottom: 0;padding: 0.3em;box-sizing: border-box;text-align: center;}#sk-container-id-5 label.sk-toggleable__label-arrow:before {content: \"▸\";float: left;margin-right: 0.25em;color: #696969;}#sk-container-id-5 label.sk-toggleable__label-arrow:hover:before {color: black;}#sk-container-id-5 div.sk-estimator:hover label.sk-toggleable__label-arrow:before {color: black;}#sk-container-id-5 div.sk-toggleable__content {max-height: 0;max-width: 0;overflow: hidden;text-align: left;background-color: #f0f8ff;}#sk-container-id-5 div.sk-toggleable__content pre {margin: 0.2em;color: black;border-radius: 0.25em;background-color: #f0f8ff;}#sk-container-id-5 input.sk-toggleable__control:checked~div.sk-toggleable__content {max-height: 200px;max-width: 100%;overflow: auto;}#sk-container-id-5 input.sk-toggleable__control:checked~label.sk-toggleable__label-arrow:before {content: \"▾\";}#sk-container-id-5 div.sk-estimator input.sk-toggleable__control:checked~label.sk-toggleable__label {background-color: #d4ebff;}#sk-container-id-5 div.sk-label input.sk-toggleable__control:checked~label.sk-toggleable__label {background-color: #d4ebff;}#sk-container-id-5 input.sk-hidden--visually {border: 0;clip: rect(1px 1px 1px 1px);clip: rect(1px, 1px, 1px, 1px);height: 1px;margin: -1px;overflow: hidden;padding: 0;position: absolute;width: 1px;}#sk-container-id-5 div.sk-estimator {font-family: monospace;background-color: #f0f8ff;border: 1px dotted black;border-radius: 0.25em;box-sizing: border-box;margin-bottom: 0.5em;}#sk-container-id-5 div.sk-estimator:hover {background-color: #d4ebff;}#sk-container-id-5 div.sk-parallel-item::after {content: \"\";width: 100%;border-bottom: 1px solid gray;flex-grow: 1;}#sk-container-id-5 div.sk-label:hover label.sk-toggleable__label {background-color: #d4ebff;}#sk-container-id-5 div.sk-serial::before {content: \"\";position: absolute;border-left: 1px solid gray;box-sizing: border-box;top: 0;bottom: 0;left: 50%;z-index: 0;}#sk-container-id-5 div.sk-serial {display: flex;flex-direction: column;align-items: center;background-color: white;padding-right: 0.2em;padding-left: 0.2em;position: relative;}#sk-container-id-5 div.sk-item {position: relative;z-index: 1;}#sk-container-id-5 div.sk-parallel {display: flex;align-items: stretch;justify-content: center;background-color: white;position: relative;}#sk-container-id-5 div.sk-item::before, #sk-container-id-5 div.sk-parallel-item::before {content: \"\";position: absolute;border-left: 1px solid gray;box-sizing: border-box;top: 0;bottom: 0;left: 50%;z-index: -1;}#sk-container-id-5 div.sk-parallel-item {display: flex;flex-direction: column;z-index: 1;position: relative;background-color: white;}#sk-container-id-5 div.sk-parallel-item:first-child::after {align-self: flex-end;width: 50%;}#sk-container-id-5 div.sk-parallel-item:last-child::after {align-self: flex-start;width: 50%;}#sk-container-id-5 div.sk-parallel-item:only-child::after {width: 0;}#sk-container-id-5 div.sk-dashed-wrapped {border: 1px dashed gray;margin: 0 0.4em 0.5em 0.4em;box-sizing: border-box;padding-bottom: 0.4em;background-color: white;}#sk-container-id-5 div.sk-label label {font-family: monospace;font-weight: bold;display: inline-block;line-height: 1.2em;}#sk-container-id-5 div.sk-label-container {text-align: center;}#sk-container-id-5 div.sk-container {/* jupyter's `normalize.less` sets `[hidden] { display: none; }` but bootstrap.min.css set `[hidden] { display: none !important; }` so we also need the `!important` here to be able to override the default hidden behavior on the sphinx rendered scikit-learn.org. See: https://github.com/scikit-learn/scikit-learn/issues/21755 */display: inline-block !important;position: relative;}#sk-container-id-5 div.sk-text-repr-fallback {display: none;}</style><div id=\"sk-container-id-5\" class=\"sk-top-container\"><div class=\"sk-text-repr-fallback\"><pre>DecisionTreeClassifier()</pre><b>In a Jupyter environment, please rerun this cell to show the HTML representation or trust the notebook. <br />On GitHub, the HTML representation is unable to render, please try loading this page with nbviewer.org.</b></div><div class=\"sk-container\" hidden><div class=\"sk-item\"><div class=\"sk-estimator sk-toggleable\"><input class=\"sk-toggleable__control sk-hidden--visually\" id=\"sk-estimator-id-5\" type=\"checkbox\" checked><label for=\"sk-estimator-id-5\" class=\"sk-toggleable__label sk-toggleable__label-arrow\">DecisionTreeClassifier</label><div class=\"sk-toggleable__content\"><pre>DecisionTreeClassifier()</pre></div></div></div></div></div>"
      ],
      "text/plain": [
       "DecisionTreeClassifier()"
      ]
     },
     "execution_count": 82,
     "metadata": {},
     "output_type": "execute_result"
    }
   ],
   "source": [
    "model.fit(X_train, y_train)"
   ]
  },
  {
   "cell_type": "code",
   "execution_count": 83,
   "id": "166f16e2-661d-44ca-8372-e9b706d2dedd",
   "metadata": {},
   "outputs": [
    {
     "data": {
      "text/plain": [
       "1.0"
      ]
     },
     "execution_count": 83,
     "metadata": {},
     "output_type": "execute_result"
    }
   ],
   "source": [
    "model.score(X_train, y_train)"
   ]
  },
  {
   "cell_type": "markdown",
   "id": "a78bcbc4-63d1-455c-97d7-d853e1f4d5b2",
   "metadata": {},
   "source": [
    "#####"
   ]
  },
  {
   "cell_type": "code",
   "execution_count": 85,
   "id": "75ef12d4-6c4f-4124-a5e1-8522db01eeec",
   "metadata": {},
   "outputs": [],
   "source": [
    "predictions = model.predict(X_test)"
   ]
  },
  {
   "cell_type": "code",
   "execution_count": 86,
   "id": "6e68d642-d837-4dc0-b122-75f6b2602102",
   "metadata": {},
   "outputs": [
    {
     "name": "stdout",
     "output_type": "stream",
     "text": [
      "the accuracy of the model is 1.0\n"
     ]
    }
   ],
   "source": [
    "from sklearn import metrics\n",
    "scorer = metrics.accuracy_score\n",
    "accuracy = scorer(y_test, predictions)\n",
    "print(f'the accuracy of the model is {accuracy}')"
   ]
  },
  {
   "cell_type": "markdown",
   "id": "677249bb-909b-48cf-b7a5-aba6b633acf1",
   "metadata": {},
   "source": [
    "##### R-Squred though promising, could mean that the model has memorized the data\n",
    "##### Given that we have a fairly small sample, focusing on subset of our data under 25, that could result in that"
   ]
  },
  {
   "cell_type": "markdown",
   "id": "81fb6549-5e73-4c2d-9e13-682a31b3f90c",
   "metadata": {},
   "source": [
    "#####"
   ]
  },
  {
   "cell_type": "code",
   "execution_count": 91,
   "id": "40ffd624-e52c-421f-a08b-db41d212204b",
   "metadata": {},
   "outputs": [
    {
     "name": "stdout",
     "output_type": "stream",
     "text": [
      "Cross-Validation Accuracy scores: [1. 1. 1. 1. 1.]\n",
      "Average Accuracy: 1.0\n"
     ]
    }
   ],
   "source": [
    "from sklearn.model_selection import StratifiedKFold, cross_val_score\n",
    "from sklearn.tree import DecisionTreeClassifier\n",
    "\n",
    "model2 = tree.DecisionTreeClassifier()\n",
    "\n",
    "# Initialize StratifiedKFold cross-validation with 5 folds\n",
    "skf = StratifiedKFold(n_splits=5, shuffle=True, random_state=42)\n",
    "\n",
    "# Perform cross-validation\n",
    "cv_scores = cross_val_score(model, X, y, cv=skf, scoring='accuracy')\n",
    "\n",
    "# Print accuracy scores for each fold\n",
    "print(\"Cross-Validation Accuracy scores:\", cv_scores)\n",
    "\n",
    "# Calculate average accuracy across all folds\n",
    "avg_accuracy = cv_scores.mean()\n",
    "print(\"Average Accuracy:\", avg_accuracy)\n"
   ]
  },
  {
   "cell_type": "markdown",
   "id": "34761fc2-c60d-4667-8ed1-c361574153ba",
   "metadata": {},
   "source": [
    "#### Achieving perfect accuracy in cross-validation suggests that the model performs well with the data it has seen. However, it's crucial to verify this performance with new data to confirm that it isn't influenced by issues like data leakage, overfitting, or having a dataset that's too uniform. "
   ]
  },
  {
   "cell_type": "markdown",
   "id": "a1a3e607-b0e2-4cd9-8526-6b3b972db1d5",
   "metadata": {},
   "source": [
    "#"
   ]
  }
 ],
 "metadata": {
  "kernelspec": {
   "display_name": "Python 3 (ipykernel)",
   "language": "python",
   "name": "python3"
  },
  "language_info": {
   "codemirror_mode": {
    "name": "ipython",
    "version": 3
   },
   "file_extension": ".py",
   "mimetype": "text/x-python",
   "name": "python",
   "nbconvert_exporter": "python",
   "pygments_lexer": "ipython3",
   "version": "3.11.7"
  }
 },
 "nbformat": 4,
 "nbformat_minor": 5
}
